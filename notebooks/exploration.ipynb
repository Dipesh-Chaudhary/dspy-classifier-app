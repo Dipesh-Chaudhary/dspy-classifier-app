{
 "cells": [
  {
   "cell_type": "markdown",
   "metadata": {},
   "source": [
    "# 1. To Traceout dspy's calls"
   ]
  },
  {
   "cell_type": "code",
   "execution_count": 1,
   "metadata": {},
   "outputs": [
    {
     "data": {
      "text/plain": [
       "<Experiment: artifact_location='mlflow-artifacts:/743460322438934521', creation_time=1743668579463, experiment_id='743460322438934521', last_update_time=1743668579463, lifecycle_stage='active', name='DSPy', tags={}>"
      ]
     },
     "execution_count": 1,
     "metadata": {},
     "output_type": "execute_result"
    }
   ],
   "source": [
    "import mlflow\n",
    "mlflow.set_tracking_uri(\"http://localhost:5000\")\n",
    "mlflow.set_experiment(\"DSPy\")"
   ]
  },
  {
   "cell_type": "code",
   "execution_count": 2,
   "metadata": {},
   "outputs": [
    {
     "name": "stderr",
     "output_type": "stream",
     "text": [
      "/home/dipesh/WORKSPACE/LET's Learn/DSPy/dspy_env/lib/python3.12/site-packages/tqdm/auto.py:21: TqdmWarning: IProgress not found. Please update jupyter and ipywidgets. See https://ipywidgets.readthedocs.io/en/stable/user_install.html\n",
      "  from .autonotebook import tqdm as notebook_tqdm\n"
     ]
    }
   ],
   "source": [
    "import dspy\n",
    "import requests"
   ]
  },
  {
   "cell_type": "code",
   "execution_count": 3,
   "metadata": {},
   "outputs": [],
   "source": [
    "mlflow.dspy.autolog(log_traces_from_compile=True)"
   ]
  },
  {
   "cell_type": "markdown",
   "metadata": {},
   "source": [
    "# 2. Setting up lm"
   ]
  },
  {
   "cell_type": "code",
   "execution_count": 4,
   "metadata": {},
   "outputs": [],
   "source": [
    "# this is for inspecting the actual llm API call\n",
    "import litellm\n",
    "litellm.set_verbose = True"
   ]
  },
  {
   "cell_type": "code",
   "execution_count": null,
   "metadata": {},
   "outputs": [],
   "source": [
    "lm = dspy.LM(\n",
    "    model='ollama_chat/deepseek-r1:14b',# use in the format of litellm i.e. provider/modelname  e.g. `groq/llama3-8b-8192`\n",
    "    api_key=''# use your api key from that provider\n",
    ")"
   ]
  },
  {
   "cell_type": "code",
   "execution_count": 6,
   "metadata": {},
   "outputs": [],
   "source": [
    "# Reset DSPy configuration to ensure clean state\n",
    "dspy.configure(lm=lm)\n"
   ]
  },
  {
   "cell_type": "markdown",
   "metadata": {},
   "source": [
    "# 3 Let's Prepare Dataset"
   ]
  },
  {
   "cell_type": "code",
   "execution_count": 7,
   "metadata": {},
   "outputs": [],
   "source": [
    "import time\n",
    "import re\n",
    "import requests\n",
    "import json\n",
    "import numpy as np\n",
    "from litellm import RateLimitError\n",
    "from tenacity import retry, wait_fixed, stop_after_attempt, retry_if_exception_type\n",
    "\n"
   ]
  },
  {
   "cell_type": "code",
   "execution_count": 8,
   "metadata": {},
   "outputs": [],
   "source": [
    "import random\n",
    "from dspy.datasets import DataLoader\n",
    "from datasets import load_dataset\n",
    "\n",
    "# Load the Banking77 dataset.\n",
    "CLASSES = load_dataset(\"PolyAI/banking77\", split=\"train\", trust_remote_code=True).features['label'].names\n",
    "kwargs = dict(fields=(\"text\", \"label\"), input_keys=(\"text\",), split=\"train\", trust_remote_code=True)\n",
    "\n",
    "# Load the first 2000 examples from the dataset, and assign a hint to each *training* example.\n",
    "raw_data = [\n",
    "    dspy.Example(x, label=CLASSES[x.label]).with_inputs(\"text\")\n",
    "    for x in DataLoader().from_huggingface(dataset_name=\"PolyAI/banking77\", **kwargs)[:1000]\n",
    "]\n",
    "\n",
    "random.Random(0).shuffle(raw_data)"
   ]
  },
  {
   "cell_type": "code",
   "execution_count": 9,
   "metadata": {},
   "outputs": [
    {
     "data": {
      "text/plain": [
       "(77,\n",
       " ['activate_my_card',\n",
       "  'age_limit',\n",
       "  'apple_pay_or_google_pay',\n",
       "  'atm_support',\n",
       "  'automatic_top_up',\n",
       "  'balance_not_updated_after_bank_transfer',\n",
       "  'balance_not_updated_after_cheque_or_cash_deposit',\n",
       "  'beneficiary_not_allowed',\n",
       "  'cancel_transfer',\n",
       "  'card_about_to_expire'])"
      ]
     },
     "execution_count": 9,
     "metadata": {},
     "output_type": "execute_result"
    }
   ],
   "source": [
    "len(CLASSES), CLASSES[:10]"
   ]
  },
  {
   "cell_type": "code",
   "execution_count": 10,
   "metadata": {},
   "outputs": [
    {
     "data": {
      "text/plain": [
       "Example({'text': 'What if there is an error on the exchange rate?'}) (input_keys={'text'})"
      ]
     },
     "execution_count": 10,
     "metadata": {},
     "output_type": "execute_result"
    }
   ],
   "source": [
    "unlabeled_trainset = [dspy.Example(text=x.text).with_inputs(\"text\") for x in raw_data[:50]]\n",
    "\n",
    "unlabeled_trainset[0]"
   ]
  },
  {
   "cell_type": "markdown",
   "metadata": {},
   "source": [
    "# 4. Defining actual program/[pipeline]"
   ]
  },
  {
   "cell_type": "code",
   "execution_count": null,
   "metadata": {},
   "outputs": [],
   "source": [
    "from typing import Literal"
   ]
  },
  {
   "cell_type": "code",
   "execution_count": 22,
   "metadata": {},
   "outputs": [],
   "source": [
    "class classifier(dspy.Module):\n",
    "    def __init__(self):\n",
    "        super().__init__()\n",
    "        self.prog=dspy.ChainOfThought(f\"text -> label: Literal{CLASSES}\")\n",
    "        \n",
    "    def forward(self,text):\n",
    "        return self.prog(text=text)"
   ]
  },
  {
   "cell_type": "code",
   "execution_count": 23,
   "metadata": {},
   "outputs": [],
   "source": [
    "program=classifier()"
   ]
  },
  {
   "cell_type": "code",
   "execution_count": 24,
   "metadata": {},
   "outputs": [
    {
     "name": "stderr",
     "output_type": "stream",
     "text": [
      "\u001b[92m12:20:32 - LiteLLM:WARNING\u001b[0m: utils.py:476 - `litellm.set_verbose` is deprecated. Please set `os.environ['LITELLM_LOG'] = 'DEBUG'` for debug logs.\n"
     ]
    },
    {
     "name": "stdout",
     "output_type": "stream",
     "text": [
      "SYNC kwargs[caching]: False; litellm.cache: <litellm.caching.caching.Cache object at 0x7613101a89e0>; kwargs.get('cache')['no-cache']: False\n",
      "Final returned optional params: {'temperature': 0.0, 'num_predict': 1000}\n",
      "RAW RESPONSE:\n",
      "{\"model\":\"deepseek-r1:14b\",\"created_at\":\"2025-04-17T06:36:12.121821047Z\",\"message\":{\"role\":\"assistant\",\"content\":\"\\u003cthink\\u003e\\nOkay, so I need to figure out what label corresponds to the text \\\"I am still waiting ON my card   ?\\\". Let me break this down step by step.\\n\\nFirst, looking at the text, the user is expressing that they're still waiting on their card. The phrase \\\"waiting on\\\" suggests that there's an expectation of receiving something related to their card, possibly a physical card or maybe a virtual one. \\n\\nNow, I'll go through the list of possible labels to see which one fits best. Let's consider some options:\\n\\n1. **card_arrival**: This seems relevant because if someone is waiting on their card, it likely refers to the arrival of a physical card they ordered.\\n2. **order_physical_card**: This could also be a possibility since ordering a physical card would involve waiting for its delivery.\\n3. **getting_spare_card** or **getting_virtual_card**: These might not fit as well unless the user is specifically asking about getting an additional card or a virtual one, which isn't indicated here.\\n\\nThe text doesn't mention anything about issues with the card once received (like it not working) or problems during payment transactions. It's more about the status of receiving the card itself.\\n\\nBetween **card_arrival** and **order_physical_card**, I think **card_arrival** is a better fit because it generally refers to waiting for the card to arrive, regardless of whether it's an order or a replacement. However, if the user had placed an order specifically, **order_physical_card** might be more precise.\\n\\nBut considering common usage and the phrasing \\\"waiting on my card,\\\" it's likely they're referring to the arrival of their ordered physical card. Therefore, **card_arrival** seems appropriate.\\n\\u003c/think\\u003e\\n\\nThe user is waiting for their card to arrive, which relates to the status of receiving a physical card.\\n\\n[[ ## reasoning ## ]]\\nThe user is expressing that they are still waiting on their card, indicating an expectation for its arrival. This corresponds to the category related to the arrival of a physical card.\\n\\n[[ ## label ## ]]\\ncard_arrival\"},\"done_reason\":\"stop\",\"done\":true,\"total_duration\":39934271561,\"load_duration\":12982387097,\"prompt_eval_count\":1488,\"prompt_eval_duration\":2530000000,\"eval_count\":424,\"eval_duration\":24410000000}\n",
      "\n",
      "\n",
      "token_counter messages received: [{'role': 'system', 'content': \"Your input fields are:\\n1. `text` (str)\\nYour output fields are:\\n1. `reasoning` (str)\\n2. `label` (Literal['activate_my_card', 'age_limit', 'apple_pay_or_google_pay', 'atm_support', 'automatic_top_up', 'balance_not_updated_after_bank_transfer', 'balance_not_updated_after_cheque_or_cash_deposit', 'beneficiary_not_allowed', 'cancel_transfer', 'card_about_to_expire', 'card_acceptance', 'card_arrival', 'card_delivery_estimate', 'card_linking', 'card_not_working', 'card_payment_fee_charged', 'card_payment_not_recognised', 'card_payment_wrong_exchange_rate', 'card_swallowed', 'cash_withdrawal_charge', 'cash_withdrawal_not_recognised', 'change_pin', 'compromised_card', 'contactless_not_working', 'country_support', 'declined_card_payment', 'declined_cash_withdrawal', 'declined_transfer', 'direct_debit_payment_not_recognised', 'disposable_card_limits', 'edit_personal_details', 'exchange_charge', 'exchange_rate', 'exchange_via_app', 'extra_charge_on_statement', 'failed_transfer', 'fiat_currency_support', 'get_disposable_virtual_card', 'get_physical_card', 'getting_spare_card', 'getting_virtual_card', 'lost_or_stolen_card', 'lost_or_stolen_phone', 'order_physical_card', 'passcode_forgotten', 'pending_card_payment', 'pending_cash_withdrawal', 'pending_top_up', 'pending_transfer', 'pin_blocked', 'receiving_money', 'Refund_not_showing_up', 'request_refund', 'reverted_card_payment?', 'supported_cards_and_currencies', 'terminate_account', 'top_up_by_bank_transfer_charge', 'top_up_by_card_charge', 'top_up_by_cash_or_cheque', 'top_up_failed', 'top_up_limits', 'top_up_reverted', 'topping_up_by_card', 'transaction_charged_twice', 'transfer_fee_charged', 'transfer_into_account', 'transfer_not_received_by_recipient', 'transfer_timing', 'unable_to_verify_identity', 'verify_my_identity', 'verify_source_of_funds', 'verify_top_up', 'virtual_card_not_working', 'visa_or_mastercard', 'why_verify_identity', 'wrong_amount_of_cash_received', 'wrong_exchange_rate_for_cash_withdrawal'])\\nAll interactions will be structured in the following way, with the appropriate values filled in.\\n\\n[[ ## text ## ]]\\n{text}\\n\\n[[ ## reasoning ## ]]\\n{reasoning}\\n\\n[[ ## label ## ]]\\n{label}        # note: the value you produce must exactly match (no extra characters) one of: activate_my_card; age_limit; apple_pay_or_google_pay; atm_support; automatic_top_up; balance_not_updated_after_bank_transfer; balance_not_updated_after_cheque_or_cash_deposit; beneficiary_not_allowed; cancel_transfer; card_about_to_expire; card_acceptance; card_arrival; card_delivery_estimate; card_linking; card_not_working; card_payment_fee_charged; card_payment_not_recognised; card_payment_wrong_exchange_rate; card_swallowed; cash_withdrawal_charge; cash_withdrawal_not_recognised; change_pin; compromised_card; contactless_not_working; country_support; declined_card_payment; declined_cash_withdrawal; declined_transfer; direct_debit_payment_not_recognised; disposable_card_limits; edit_personal_details; exchange_charge; exchange_rate; exchange_via_app; extra_charge_on_statement; failed_transfer; fiat_currency_support; get_disposable_virtual_card; get_physical_card; getting_spare_card; getting_virtual_card; lost_or_stolen_card; lost_or_stolen_phone; order_physical_card; passcode_forgotten; pending_card_payment; pending_cash_withdrawal; pending_top_up; pending_transfer; pin_blocked; receiving_money; Refund_not_showing_up; request_refund; reverted_card_payment?; supported_cards_and_currencies; terminate_account; top_up_by_bank_transfer_charge; top_up_by_card_charge; top_up_by_cash_or_cheque; top_up_failed; top_up_limits; top_up_reverted; topping_up_by_card; transaction_charged_twice; transfer_fee_charged; transfer_into_account; transfer_not_received_by_recipient; transfer_timing; unable_to_verify_identity; verify_my_identity; verify_source_of_funds; verify_top_up; virtual_card_not_working; visa_or_mastercard; why_verify_identity; wrong_amount_of_cash_received; wrong_exchange_rate_for_cash_withdrawal\\n\\n[[ ## completed ## ]]\\nIn adhering to this structure, your objective is: \\n        Given the fields `text`, produce the fields `label`.\"}, {'role': 'user', 'content': \"[[ ## text ## ]]\\nI am still waiting ON my card   ?\\n\\nRespond with the corresponding output fields, starting with the field `[[ ## reasoning ## ]]`, then `[[ ## label ## ]]` (must be formatted as a valid Python Literal['activate_my_card', 'age_limit', 'apple_pay_or_google_pay', 'atm_support', 'automatic_top_up', 'balance_not_updated_after_bank_transfer', 'balance_not_updated_after_cheque_or_cash_deposit', 'beneficiary_not_allowed', 'cancel_transfer', 'card_about_to_expire', 'card_acceptance', 'card_arrival', 'card_delivery_estimate', 'card_linking', 'card_not_working', 'card_payment_fee_charged', 'card_payment_not_recognised', 'card_payment_wrong_exchange_rate', 'card_swallowed', 'cash_withdrawal_charge', 'cash_withdrawal_not_recognised', 'change_pin', 'compromised_card', 'contactless_not_working', 'country_support', 'declined_card_payment', 'declined_cash_withdrawal', 'declined_transfer', 'direct_debit_payment_not_recognised', 'disposable_card_limits', 'edit_personal_details', 'exchange_charge', 'exchange_rate', 'exchange_via_app', 'extra_charge_on_statement', 'failed_transfer', 'fiat_currency_support', 'get_disposable_virtual_card', 'get_physical_card', 'getting_spare_card', 'getting_virtual_card', 'lost_or_stolen_card', 'lost_or_stolen_phone', 'order_physical_card', 'passcode_forgotten', 'pending_card_payment', 'pending_cash_withdrawal', 'pending_top_up', 'pending_transfer', 'pin_blocked', 'receiving_money', 'Refund_not_showing_up', 'request_refund', 'reverted_card_payment?', 'supported_cards_and_currencies', 'terminate_account', 'top_up_by_bank_transfer_charge', 'top_up_by_card_charge', 'top_up_by_cash_or_cheque', 'top_up_failed', 'top_up_limits', 'top_up_reverted', 'topping_up_by_card', 'transaction_charged_twice', 'transfer_fee_charged', 'transfer_into_account', 'transfer_not_received_by_recipient', 'transfer_timing', 'unable_to_verify_identity', 'verify_my_identity', 'verify_source_of_funds', 'verify_top_up', 'virtual_card_not_working', 'visa_or_mastercard', 'why_verify_identity', 'wrong_amount_of_cash_received', 'wrong_exchange_rate_for_cash_withdrawal']), and then ending with the marker for `[[ ## completed ## ]]`.\"}]\n",
      "Token Counter - using generic token counter, for model=\n",
      "LiteLLM: Utils - Counting tokens for OpenAI model=gpt-3.5-turbo\n",
      "Token Counter - using generic token counter, for model=\n",
      "LiteLLM: Utils - Counting tokens for OpenAI model=gpt-3.5-turbo\n",
      "success callbacks: Running Custom Callback Function - <function _litellm_track_cache_hit_callback at 0x7613101cd260>\n"
     ]
    },
    {
     "data": {
      "text/plain": [
       "Prediction(\n",
       "    reasoning='The user is expressing that they are still waiting on their card, indicating an expectation for its arrival. This corresponds to the category related to the arrival of a physical card.',\n",
       "    label='card_arrival'\n",
       ")"
      ]
     },
     "execution_count": 24,
     "metadata": {},
     "output_type": "execute_result"
    },
    {
     "data": {
      "text/html": [
       "\n",
       "<div>\n",
       "  <style scoped>\n",
       "  button {\n",
       "    border: none;\n",
       "    border-radius: 4px;\n",
       "    background-color: rgb(34, 114, 180);\n",
       "    font-family: -apple-system, \"system-ui\", \"Segoe UI\", Roboto, \"Helvetica Neue\", Arial;\n",
       "    font-size: 13px;\n",
       "    color: white;\n",
       "    margin-top: 8px;\n",
       "    margin-bottom: 8px;\n",
       "    padding: 8px 16px;\n",
       "    cursor: pointer;\n",
       "  }\n",
       "  button:hover {\n",
       "    background-color: rgb(66, 153, 224);\n",
       "  }\n",
       "  </style>\n",
       "  <button\n",
       "    onclick=\"\n",
       "        const display = this.nextElementSibling.style.display;\n",
       "        const isCollapsed = display === 'none';\n",
       "        this.nextElementSibling.style.display = isCollapsed ? null : 'none';\n",
       "\n",
       "        const verb = isCollapsed ? 'Collapse' : 'Expand';\n",
       "        this.innerText = `${verb} MLflow Trace`;\n",
       "    \"\n",
       "  >Collapse MLflow Trace</button>\n",
       "  <iframe\n",
       "    id=\"trace-renderer\"\n",
       "    style=\"width: 100%; height: 500px; border: none; resize: vertical;\"\n",
       "    src=\"http://localhost:5000/static-files/lib/notebook-trace-renderer/index.html?trace_id=fcebb33a92f64cf09337ac8e98120d87&amp;experiment_id=743460322438934521&amp;version=2.21.3\"\n",
       "  />\n",
       "</div>\n"
      ],
      "text/plain": [
       "Trace(request_id=fcebb33a92f64cf09337ac8e98120d87)"
      ]
     },
     "metadata": {},
     "output_type": "display_data"
    },
    {
     "name": "stdout",
     "output_type": "stream",
     "text": [
      "success callbacks: Running Custom Callback Function - <function _litellm_track_cache_hit_callback at 0x7613101cd260>\n",
      "success callbacks: Running Custom Callback Function - <function _litellm_track_cache_hit_callback at 0x7613101cd260>\n",
      "success callbacks: Running Custom Callback Function - <function _litellm_track_cache_hit_callback at 0x7613101cd260>\n",
      "success callbacks: Running Custom Callback Function - <function _litellm_track_cache_hit_callback at 0x7613101cd260>\n",
      "success callbacks: Running Custom Callback Function - <function _litellm_track_cache_hit_callback at 0x7613101cd260>\n",
      "success callbacks: Running Custom Callback Function - <function _litellm_track_cache_hit_callback at 0x7613101cd260>\n",
      "success callbacks: Running Custom Callback Function - <function _litellm_track_cache_hit_callback at 0x7613101cd260>\n",
      "success callbacks: Running Custom Callback Function - <function _litellm_track_cache_hit_callback at 0x7613101cd260>\n",
      "success callbacks: Running Custom Callback Function - <function _litellm_track_cache_hit_callback at 0x7613101cd260>\n",
      "success callbacks: Running Custom Callback Function - <function _litellm_track_cache_hit_callback at 0x7613101cd260>\n",
      "success callbacks: Running Custom Callback Function - <function _litellm_track_cache_hit_callback at 0x7613101cd260>\n",
      "success callbacks: Running Custom Callback Function - <function _litellm_track_cache_hit_callback at 0x7613101cd260>\n",
      "success callbacks: Running Custom Callback Function - <function _litellm_track_cache_hit_callback at 0x7613101cd260>\n",
      "success callbacks: Running Custom Callback Function - <function _litellm_track_cache_hit_callback at 0x7613101cd260>\n",
      "success callbacks: Running Custom Callback Function - <function _litellm_track_cache_hit_callback at 0x7613101cd260>\n",
      "success callbacks: Running Custom Callback Function - <function _litellm_track_cache_hit_callback at 0x7613101cd260>\n",
      "success callbacks: Running Custom Callback Function - <function _litellm_track_cache_hit_callback at 0x7613101cd260>\n",
      "success callbacks: Running Custom Callback Function - <function _litellm_track_cache_hit_callback at 0x7613101cd260>\n",
      "success callbacks: Running Custom Callback Function - <function _litellm_track_cache_hit_callback at 0x7613101cd260>\n",
      "success callbacks: Running Custom Callback Function - <function _litellm_track_cache_hit_callback at 0x7613101cd260>\n",
      "success callbacks: Running Custom Callback Function - <function _litellm_track_cache_hit_callback at 0x7613101cd260>\n",
      "success callbacks: Running Custom Callback Function - <function _litellm_track_cache_hit_callback at 0x7613101cd260>\n",
      "success callbacks: Running Custom Callback Function - <function _litellm_track_cache_hit_callback at 0x7613101cd260>\n",
      "success callbacks: Running Custom Callback Function - <function _litellm_track_cache_hit_callback at 0x7613101cd260>\n",
      "success callbacks: Running Custom Callback Function - <function _litellm_track_cache_hit_callback at 0x7613101cd260>\n",
      "success callbacks: Running Custom Callback Function - <function _litellm_track_cache_hit_callback at 0x7613101cd260>\n",
      "success callbacks: Running Custom Callback Function - <function _litellm_track_cache_hit_callback at 0x7613101cd260>\n",
      "success callbacks: Running Custom Callback Function - <function _litellm_track_cache_hit_callback at 0x7613101cd260>\n",
      "success callbacks: Running Custom Callback Function - <function _litellm_track_cache_hit_callback at 0x7613101cd260>\n",
      "success callbacks: Running Custom Callback Function - <function _litellm_track_cache_hit_callback at 0x7613101cd260>\n",
      "success callbacks: Running Custom Callback Function - <function _litellm_track_cache_hit_callback at 0x7613101cd260>\n",
      "success callbacks: Running Custom Callback Function - <function _litellm_track_cache_hit_callback at 0x7613101cd260>\n",
      "success callbacks: Running Custom Callback Function - <function _litellm_track_cache_hit_callback at 0x7613101cd260>\n",
      "success callbacks: Running Custom Callback Function - <function _litellm_track_cache_hit_callback at 0x7613101cd260>\n"
     ]
    }
   ],
   "source": [
    "program(text=\"I am still waiting ON my card   ?\")"
   ]
  },
  {
   "cell_type": "markdown",
   "metadata": {},
   "source": [
    "**here we can see , the prompt that has be sent as message to the lm call  :**\n",
    "\n",
    "*[{'role': 'system', 'content': \"Your input fields are:\\n1. `text` (str)\\nYour output fields are:\\n1. `reasoning` (str)\\n2. `label` (Literal['activate_my_card', 'age_limit', 'apple_pay_or_google_pay', 'atm_support', 'automatic_top_up', 'balance_not_updated_after_bank_transfer', 'balance_not_updated_after_cheque_or_cash_deposit', 'beneficiary_not_allowed', 'cancel_transfer', 'card_about_to_expire', 'card_acceptance', 'card_arrival', 'card_delivery_estimate', 'card_linking', 'card_not_working', 'card_payment_fee_charged', 'card_payment_not_recognised', 'card_payment_wrong_exchange_rate', 'card_swallowed', 'cash_withdrawal_charge', 'cash_withdrawal_not_recognised', 'change_pin', 'compromised_card', 'contactless_not_working', 'country_support', 'declined_card_payment', 'declined_cash_withdrawal', 'declined_transfer', 'direct_debit_payment_not_recognised', 'disposable_card_limits', 'edit_personal_details', 'exchange_charge', 'exchange_rate', 'exchange_via_app', 'extra_charge_on_statement', 'failed_transfer', 'fiat_currency_support', 'get_disposable_virtual_card', 'get_physical_card', 'getting_spare_card', 'getting_virtual_card', 'lost_or_stolen_card', 'lost_or_stolen_phone', 'order_physical_card', 'passcode_forgotten', 'pending_card_payment', 'pending_cash_withdrawal', 'pending_top_up', 'pending_transfer', 'pin_blocked', 'receiving_money', 'Refund_not_showing_up', 'request_refund', 'reverted_card_payment?', 'supported_cards_and_currencies', 'terminate_account', 'top_up_by_bank_transfer_charge', 'top_up_by_card_charge', 'top_up_by_cash_or_cheque', 'top_up_failed', 'top_up_limits', 'top_up_reverted', 'topping_up_by_card', 'transaction_charged_twice', 'transfer_fee_charged', 'transfer_into_account', 'transfer_not_received_by_recipient', 'transfer_timing', 'unable_to_verify_identity', 'verify_my_identity', 'verify_source_of_funds', 'verify_top_up', 'virtual_card_not_working', 'visa_or_mastercard', 'why_verify_identity', 'wrong_amount_of_cash_received', 'wrong_exchange_rate_for_cash_withdrawal'])\\nAll interactions will be structured in the following way, with the appropriate values filled in.\\n\\n[[ ## text ## ]]\\n{text}\\n\\n[[ ## reasoning ## ]]\\n{reasoning}\\n\\n[[ ## label ## ]]\\n{label}        # note: the value you produce must exactly match (no extra characters) one of: activate_my_card; age_limit; apple_pay_or_google_pay; atm_support; automatic_top_up; balance_not_updated_after_bank_transfer; balance_not_updated_after_cheque_or_cash_deposit; beneficiary_not_allowed; cancel_transfer; card_about_to_expire; card_acceptance; card_arrival; card_delivery_estimate; card_linking; card_not_working; card_payment_fee_charged; card_payment_not_recognised; card_payment_wrong_exchange_rate; card_swallowed; cash_withdrawal_charge; cash_withdrawal_not_recognised; change_pin; compromised_card; contactless_not_working; country_support; declined_card_payment; declined_cash_withdrawal; declined_transfer; direct_debit_payment_not_recognised; disposable_card_limits; edit_personal_details; exchange_charge; exchange_rate; exchange_via_app; extra_charge_on_statement; failed_transfer; fiat_currency_support; get_disposable_virtual_card; get_physical_card; getting_spare_card; getting_virtual_card; lost_or_stolen_card; lost_or_stolen_phone; order_physical_card; passcode_forgotten; pending_card_payment; pending_cash_withdrawal; pending_top_up; pending_transfer; pin_blocked; receiving_money; Refund_not_showing_up; request_refund; reverted_card_payment?; supported_cards_and_currencies; terminate_account; top_up_by_bank_transfer_charge; top_up_by_card_charge; top_up_by_cash_or_cheque; top_up_failed; top_up_limits; top_up_reverted; topping_up_by_card; transaction_charged_twice; transfer_fee_charged; transfer_into_account; transfer_not_received_by_recipient; transfer_timing; unable_to_verify_identity; verify_my_identity; verify_source_of_funds; verify_top_up; virtual_card_not_working; visa_or_mastercard; why_verify_identity; wrong_amount_of_cash_received; wrong_exchange_rate_for_cash_withdrawal\\n\\n[[ ## completed ## ]]\\nIn adhering to this structure, your objective is: \\n        Given the fields `text`, produce the fields `label`.\"}, {'role': 'user', 'content': \"[[ ## text ## ]]\\nI am still waiting ON my card   ?\\n\\nRespond with the corresponding output fields, starting with the field `[[ ## reasoning ## ]]`, then `[[ ## label ## ]]` (must be formatted as a valid Python Literal['activate_my_card', 'age_limit', 'apple_pay_or_google_pay', 'atm_support', 'automatic_top_up', 'balance_not_updated_after_bank_transfer', 'balance_not_updated_after_cheque_or_cash_deposit', 'beneficiary_not_allowed', 'cancel_transfer', 'card_about_to_expire', 'card_acceptance', 'card_arrival', 'card_delivery_estimate', 'card_linking', 'card_not_working', 'card_payment_fee_charged', 'card_payment_not_recognised', 'card_payment_wrong_exchange_rate', 'card_swallowed', 'cash_withdrawal_charge', 'cash_withdrawal_not_recognised', 'change_pin', 'compromised_card', 'contactless_not_working', 'country_support', 'declined_card_payment', 'declined_cash_withdrawal', 'declined_transfer', 'direct_debit_payment_not_recognised', 'disposable_card_limits', 'edit_personal_details', 'exchange_charge', 'exchange_rate', 'exchange_via_app', 'extra_charge_on_statement', 'failed_transfer', 'fiat_currency_support', 'get_disposable_virtual_card', 'get_physical_card', 'getting_spare_card', 'getting_virtual_card', 'lost_or_stolen_card', 'lost_or_stolen_phone', 'order_physical_card', 'passcode_forgotten', 'pending_card_payment', 'pending_cash_withdrawal', 'pending_top_up', 'pending_transfer', 'pin_blocked', 'receiving_money', 'Refund_not_showing_up', 'request_refund', 'reverted_card_payment?', 'supported_cards_and_currencies', 'terminate_account', 'top_up_by_bank_transfer_charge', 'top_up_by_card_charge', 'top_up_by_cash_or_cheque', 'top_up_failed', 'top_up_limits', 'top_up_reverted', 'topping_up_by_card', 'transaction_charged_twice', 'transfer_fee_charged', 'transfer_into_account', 'transfer_not_received_by_recipient', 'transfer_timing', 'unable_to_verify_identity', 'verify_my_identity', 'verify_source_of_funds', 'verify_top_up', 'virtual_card_not_working', 'visa_or_mastercard', 'why_verify_identity', 'wrong_amount_of_cash_received', 'wrong_exchange_rate_for_cash_withdrawal']), and then ending with the marker for `[[ ## completed ## ]]`.\"}]*\n"
   ]
  },
  {
   "cell_type": "markdown",
   "metadata": {},
   "source": [
    "# 5 Preparing dataset for training , testing and evaluation"
   ]
  },
  {
   "cell_type": "code",
   "execution_count": null,
   "metadata": {},
   "outputs": [
    {
     "data": {
      "text/plain": [
       "Example({'text': 'What if there is an error on the exchange rate?', 'label': 'card_payment_wrong_exchange_rate'}) (input_keys={'text'})"
      ]
     },
     "execution_count": 12,
     "metadata": {},
     "output_type": "execute_result"
    }
   ],
   "source": [
    "trainset = raw_data[:500]\n",
    "trainset[0]"
   ]
  },
  {
   "cell_type": "code",
   "execution_count": 13,
   "metadata": {},
   "outputs": [],
   "source": [
    "testset_before_optimization=raw_data[500:700]"
   ]
  },
  {
   "cell_type": "code",
   "execution_count": 14,
   "metadata": {},
   "outputs": [],
   "source": [
    "testset_after_optimization=raw_data[700:900]"
   ]
  },
  {
   "cell_type": "code",
   "execution_count": 15,
   "metadata": {},
   "outputs": [],
   "source": [
    "devset=raw_data[900:1000]"
   ]
  },
  {
   "cell_type": "markdown",
   "metadata": {},
   "source": [
    "# 6. Defining metric and evaluating the base program before optimization"
   ]
  },
  {
   "cell_type": "code",
   "execution_count": 16,
   "metadata": {},
   "outputs": [],
   "source": [
    "from dspy.teleprompt import MIPROv2\n",
    "from tqdm import tqdm"
   ]
  },
  {
   "cell_type": "code",
   "execution_count": 17,
   "metadata": {},
   "outputs": [],
   "source": [
    "def custom_metric(example, prediction, trace=None):\n",
    "    # Exact match\n",
    "    if example.label == prediction.label:\n",
    "        return 1.0\n",
    "    else:\n",
    "        return 0.0"
   ]
  },
  {
   "cell_type": "code",
   "execution_count": 18,
   "metadata": {},
   "outputs": [],
   "source": [
    "from tqdm import tqdm\n",
    "\n",
    "def evaluate_pipeline(pipeline, dataset, batch_size=5):\n",
    "    predictions = []\n",
    "    errors = 0\n",
    "    total_examples = len(dataset)\n",
    "    \n",
    "    with tqdm(total=total_examples, desc=\"Processing examples\", unit=\"example\") as pbar:\n",
    "        for i in range(0, len(dataset), batch_size):\n",
    "            batch = dataset[i:i + batch_size]\n",
    "            batch_texts = [example.text for example in batch]\n",
    "            \n",
    "            batch_predictions = []\n",
    "            for text in batch_texts:\n",
    "                try:\n",
    "                    # Try with retries in case of transient errors\n",
    "                    result = pipeline(text=text)\n",
    "                    batch_predictions.append(result)\n",
    "                except Exception as e:\n",
    "                    errors += 1\n",
    "                    batch_predictions.append(None)  # or appropriate default\n",
    "                    tqdm.write(f\"Error processing example {i}: {str(e)}\")\n",
    "                finally:\n",
    "                    pbar.update(1)\n",
    "            \n",
    "            predictions.extend(batch_predictions)\n",
    "    \n",
    "    # Calculate custom metric score (skipping failed examples)\n",
    "    custom_scores = []\n",
    "    for example, pred in zip(dataset, predictions):\n",
    "        if pred is not None:\n",
    "            try:\n",
    "                custom_scores.append(custom_metric(example, pred))\n",
    "            except:\n",
    "                errors += 1\n",
    "    \n",
    "    avg_custom_score = sum(custom_scores) / len(custom_scores) if custom_scores else 0\n",
    "    print(f\"\\nEvaluation completed with {errors} errors\")\n",
    "    print(f\"Custom Metric Score: {avg_custom_score:.2f} (calculated on {len(custom_scores)} valid examples)\")\n"
   ]
  },
  {
   "cell_type": "code",
   "execution_count": null,
   "metadata": {},
   "outputs": [
    {
     "name": "stderr",
     "output_type": "stream",
     "text": [
      "Processing examples:   8%|▊         | 15/200 [00:02<00:39,  4.67example/s]"
     ]
    },
    {
     "name": "stdout",
     "output_type": "stream",
     "text": [
      "Error processing example 10: 'list' object has no attribute 'items'\n"
     ]
    },
    {
     "name": "stderr",
     "output_type": "stream",
     "text": [
      "Processing examples:  10%|█         | 21/200 [00:03<00:32,  5.52example/s]"
     ]
    },
    {
     "name": "stdout",
     "output_type": "stream",
     "text": [
      "Error processing example 15: 'list' object has no attribute 'items'\n"
     ]
    },
    {
     "name": "stderr",
     "output_type": "stream",
     "text": [
      "Processing examples:  36%|███▋      | 73/200 [01:12<39:25, 18.63s/example]"
     ]
    },
    {
     "name": "stdout",
     "output_type": "stream",
     "text": [
      "Error processing example 70: 'list' object has no attribute 'items'\n"
     ]
    },
    {
     "name": "stderr",
     "output_type": "stream",
     "text": [
      "Processing examples:  60%|█████▉    | 119/200 [21:08<1:00:00, 44.45s/example]"
     ]
    },
    {
     "name": "stdout",
     "output_type": "stream",
     "text": [
      "Error processing example 115: 'list' object has no attribute 'items'\n"
     ]
    },
    {
     "name": "stderr",
     "output_type": "stream",
     "text": [
      "Processing examples:  75%|███████▌  | 150/200 [35:21<32:15, 38.70s/example]  "
     ]
    },
    {
     "name": "stdout",
     "output_type": "stream",
     "text": [
      "Error processing example 145: 'list' object has no attribute 'items'\n"
     ]
    },
    {
     "name": "stderr",
     "output_type": "stream",
     "text": [
      "Processing examples:  76%|███████▋  | 153/200 [37:53<38:18, 48.91s/example]"
     ]
    },
    {
     "name": "stdout",
     "output_type": "stream",
     "text": [
      "Error processing example 150: 'list' object has no attribute 'items'\n"
     ]
    },
    {
     "name": "stderr",
     "output_type": "stream",
     "text": [
      "Processing examples:  77%|███████▋  | 154/200 [39:27<47:59, 62.60s/example]"
     ]
    },
    {
     "name": "stdout",
     "output_type": "stream",
     "text": [
      "Error processing example 150: 'list' object has no attribute 'items'\n"
     ]
    },
    {
     "name": "stderr",
     "output_type": "stream",
     "text": [
      "Processing examples:  82%|████████▏ | 164/200 [44:32<26:21, 43.93s/example]"
     ]
    },
    {
     "name": "stdout",
     "output_type": "stream",
     "text": [
      "Error processing example 160: 'list' object has no attribute 'items'\n"
     ]
    },
    {
     "name": "stderr",
     "output_type": "stream",
     "text": [
      "Processing examples: 100%|██████████| 200/200 [59:41<00:00, 17.91s/example]"
     ]
    },
    {
     "name": "stdout",
     "output_type": "stream",
     "text": [
      "\n",
      "Evaluation completed with 8 errors\n",
      "Custom Metric Score: 0.65 (calculated on 192 valid examples)\n"
     ]
    },
    {
     "name": "stderr",
     "output_type": "stream",
     "text": [
      "\n"
     ]
    },
    {
     "data": {
      "text/html": [
       "\n",
       "<div>\n",
       "  <style scoped>\n",
       "  button {\n",
       "    border: none;\n",
       "    border-radius: 4px;\n",
       "    background-color: rgb(34, 114, 180);\n",
       "    font-family: -apple-system, \"system-ui\", \"Segoe UI\", Roboto, \"Helvetica Neue\", Arial;\n",
       "    font-size: 13px;\n",
       "    color: white;\n",
       "    margin-top: 8px;\n",
       "    margin-bottom: 8px;\n",
       "    padding: 8px 16px;\n",
       "    cursor: pointer;\n",
       "  }\n",
       "  button:hover {\n",
       "    background-color: rgb(66, 153, 224);\n",
       "  }\n",
       "  </style>\n",
       "  <button\n",
       "    onclick=\"\n",
       "        const display = this.nextElementSibling.style.display;\n",
       "        const isCollapsed = display === 'none';\n",
       "        this.nextElementSibling.style.display = isCollapsed ? null : 'none';\n",
       "\n",
       "        const verb = isCollapsed ? 'Collapse' : 'Expand';\n",
       "        this.innerText = `${verb} MLflow Trace`;\n",
       "    \"\n",
       "  >Collapse MLflow Trace</button>\n",
       "  <iframe\n",
       "    id=\"trace-renderer\"\n",
       "    style=\"width: 100%; height: 500px; border: none; resize: vertical;\"\n",
       "    src=\"http://localhost:5000/static-files/lib/notebook-trace-renderer/index.html?trace_id=01d1e36b7b9d4d6991aff89c3f18ddb8&amp;experiment_id=743460322438934521&amp;trace_id=9a0f082e5e424c91b0dd9cc8b1939d61&amp;experiment_id=743460322438934521&amp;trace_id=6db232ba02ae4a6389b9d800b1b3678f&amp;experiment_id=743460322438934521&amp;trace_id=e7db10e473b34c0d8b7976448844d781&amp;experiment_id=743460322438934521&amp;trace_id=85734a32920b40be9d3dbe986e02a41d&amp;experiment_id=743460322438934521&amp;trace_id=61fb8d2040e34a3f8a4c11ca7663ffb7&amp;experiment_id=743460322438934521&amp;trace_id=a96f0a6806eb4e1bac8ca6bb52a4ed8d&amp;experiment_id=743460322438934521&amp;trace_id=e2e6a97b1fb44fdca797dedd93ea03cc&amp;experiment_id=743460322438934521&amp;trace_id=bf9300a245a746cf82bbc40cacb3693b&amp;experiment_id=743460322438934521&amp;trace_id=bd412e2c667e48d285408b4dbc8fa042&amp;experiment_id=743460322438934521&amp;version=2.21.2\"\n",
       "  />\n",
       "</div>\n"
      ],
      "text/plain": [
       "[Trace(request_id=01d1e36b7b9d4d6991aff89c3f18ddb8), Trace(request_id=9a0f082e5e424c91b0dd9cc8b1939d61), Trace(request_id=6db232ba02ae4a6389b9d800b1b3678f), Trace(request_id=e7db10e473b34c0d8b7976448844d781), Trace(request_id=85734a32920b40be9d3dbe986e02a41d), Trace(request_id=61fb8d2040e34a3f8a4c11ca7663ffb7), Trace(request_id=a96f0a6806eb4e1bac8ca6bb52a4ed8d), Trace(request_id=e2e6a97b1fb44fdca797dedd93ea03cc), Trace(request_id=bf9300a245a746cf82bbc40cacb3693b), Trace(request_id=bd412e2c667e48d285408b4dbc8fa042)]"
      ]
     },
     "metadata": {},
     "output_type": "display_data"
    }
   ],
   "source": [
    "# Evaluation on pipeline before optimization\n",
    "evaluate_pipeline(program.deepcopy(), testset_before_optimization)"
   ]
  },
  {
   "cell_type": "markdown",
   "metadata": {},
   "source": [
    "**Hence, we got 65% accuracy on program before optimized**"
   ]
  },
  {
   "cell_type": "markdown",
   "metadata": {},
   "source": [
    "# 7. PERFORMING MIPRO OPTIMIZATION"
   ]
  },
  {
   "cell_type": "code",
   "execution_count": null,
   "metadata": {},
   "outputs": [],
   "source": [
    "# Configure MIPRO optimizer\n",
    "optimizer = MIPROv2(\n",
    "    metric=custom_metric,\n",
    "    num_candidates=15,\n",
    "    auto=\"light\"  # Options: 'light', 'medium', 'heavy'\n",
    ")"
   ]
  },
  {
   "cell_type": "code",
   "execution_count": null,
   "metadata": {},
   "outputs": [],
   "source": [
    "# To avoid unnecessary so many inspection of API CALL\n",
    "litellm.set_verbose = False"
   ]
  },
  {
   "cell_type": "code",
   "execution_count": 27,
   "metadata": {},
   "outputs": [
    {
     "name": "stderr",
     "output_type": "stream",
     "text": [
      "2025/04/17 12:47:37 INFO dspy.teleprompt.mipro_optimizer_v2: \n",
      "RUNNING WITH THE FOLLOWING LIGHT AUTO RUN SETTINGS:\n",
      "num_trials: 7\n",
      "minibatch: True\n",
      "num_candidates: 5\n",
      "valset size: 100\n",
      "\n",
      "2025/04/17 12:47:39 INFO dspy.teleprompt.mipro_optimizer_v2: \n",
      "==> STEP 1: BOOTSTRAP FEWSHOT EXAMPLES <==\n",
      "2025/04/17 12:47:39 INFO dspy.teleprompt.mipro_optimizer_v2: These will be used as few-shot example candidates for our program and for creating instructions.\n",
      "\n",
      "2025/04/17 12:47:39 INFO dspy.teleprompt.mipro_optimizer_v2: Bootstrapping N=5 sets of demonstrations...\n"
     ]
    },
    {
     "name": "stdout",
     "output_type": "stream",
     "text": [
      "Bootstrapping set 1/5\n",
      "Bootstrapping set 2/5\n",
      "Bootstrapping set 3/5\n"
     ]
    },
    {
     "name": "stderr",
     "output_type": "stream",
     "text": [
      "  2%|▏         | 11/500 [04:30<3:20:11, 24.56s/it]\n"
     ]
    },
    {
     "name": "stdout",
     "output_type": "stream",
     "text": [
      "Bootstrapped 4 full traces after 11 examples for up to 1 rounds, amounting to 11 attempts.\n",
      "Bootstrapping set 4/5\n"
     ]
    },
    {
     "name": "stderr",
     "output_type": "stream",
     "text": [
      "  1%|          | 3/500 [01:02<2:52:58, 20.88s/it]\n"
     ]
    },
    {
     "name": "stdout",
     "output_type": "stream",
     "text": [
      "Bootstrapped 3 full traces after 3 examples for up to 1 rounds, amounting to 3 attempts.\n",
      "Bootstrapping set 5/5\n"
     ]
    },
    {
     "name": "stderr",
     "output_type": "stream",
     "text": [
      "  1%|          | 4/500 [01:30<3:07:09, 22.64s/it]\n",
      "2025/04/17 12:54:43 INFO dspy.teleprompt.mipro_optimizer_v2: \n",
      "==> STEP 2: PROPOSE INSTRUCTION CANDIDATES <==\n",
      "2025/04/17 12:54:43 INFO dspy.teleprompt.mipro_optimizer_v2: We will use the few-shot examples from the previous step, a generated dataset summary, a summary of the program code, and a randomly selected prompting tip to propose instructions.\n"
     ]
    },
    {
     "name": "stdout",
     "output_type": "stream",
     "text": [
      "Bootstrapped 4 full traces after 4 examples for up to 1 rounds, amounting to 4 attempts.\n"
     ]
    },
    {
     "name": "stderr",
     "output_type": "stream",
     "text": [
      "2025/04/17 12:54:45 INFO dspy.teleprompt.mipro_optimizer_v2: \n",
      "Proposing instructions...\n",
      "\n",
      "2025/04/17 13:01:59 INFO dspy.teleprompt.mipro_optimizer_v2: Proposed Instructions for Predictor 0:\n",
      "\n",
      "2025/04/17 13:01:59 INFO dspy.teleprompt.mipro_optimizer_v2: 0: Given the fields `text`, produce the fields `label`.\n",
      "\n",
      "2025/04/17 13:01:59 INFO dspy.teleprompt.mipro_optimizer_v2: 1: Given a piece of text, first generate a step-by-step reasoning process that explains why the text should be categorized in a specific way. Then, based on this reasoning, assign it to one of the predefined labels.\n",
      "\n",
      "2025/04/17 13:01:59 INFO dspy.teleprompt.mipro_optimizer_v2: 2: Given a customer inquiry regarding card payments, provide a detailed step-by-step explanation (reasoning) that identifies and categorizes the main issue or concern in the text. Based on this analysis, assign the most appropriate predefined label from the list of categories related to card-related issues, financial transactions, or customer support queries.\n",
      "\n",
      "Start by carefully reading and understanding the input text. Then, break down the problem or question into smaller components, identifying key details such as:\n",
      "\n",
      "1. The nature of the inquiry (e.g., technical issue, fee dispute, exchange rate concern)\n",
      "2. Relevant keywords or phrases that indicate the specific category\n",
      "3. Any underlying issues or implications for the customer\n",
      "\n",
      "Use this analysis to map the inquiry to the most fitting label from the predefined list.\n",
      "\n",
      "Respond with both your reasoning process and the final label in the specified format.\n",
      "\n",
      "2025/04/17 13:01:59 INFO dspy.teleprompt.mipro_optimizer_v2: 3: Analyze the input text to understand the user's query regarding card usage or payment issues. Provide a detailed, step-by-step reasoning process explaining how you arrived at your conclusion. Based on this analysis, assign the most appropriate label from the predefined categories related to card usage, payments, account management, and customer service topics.\n",
      "\n",
      "For example:\n",
      "1. Read and comprehend the user's question.\n",
      "2. Identify key elements or keywords in the text that indicate the category.\n",
      "3. Compare these elements with predefined labels to find the best match.\n",
      "4. Document each step of this analysis clearly.\n",
      "\n",
      "This structured approach ensures accurate classification and clear reasoning, enhancing the model's ability to handle various customer inquiries effectively.\n",
      "\n",
      "2025/04/17 13:01:59 INFO dspy.teleprompt.mipro_optimizer_v2: 4: You are an expert in classifying customer inquiries related to banking or financial services into predefined categories. Given a text input, you will analyze it step by step and determine the most appropriate category it belongs to. This classification is crucial as it directly impacts how customer issues are resolved and addressed.\n",
      "\n",
      "For example:\n",
      "- If a user asks about an unexpected charge on their statement, such as \"I checked my statement and am being charged one pound. Where did this charge come from?\", you would need to reason through the query and categorize it under labels like \"extra_charge_on_statement\".\n",
      "- Similarly, if a user reports a problem with a transaction or fee, your analysis will guide the proper resolution process.\n",
      "\n",
      "Your task is to carefully analyze each text input and provide both the reasoning process and the corresponding label for that text. The accuracy of this classification is critical in ensuring customer satisfaction and effective issue resolution.\n",
      "\n",
      "2025/04/17 13:01:59 INFO dspy.teleprompt.mipro_optimizer_v2: \n",
      "\n",
      "2025/04/17 13:01:59 INFO dspy.teleprompt.mipro_optimizer_v2: ==> STEP 3: FINDING OPTIMAL PROMPT PARAMETERS <==\n",
      "2025/04/17 13:01:59 INFO dspy.teleprompt.mipro_optimizer_v2: We will evaluate the program over a series of trials with different combinations of instructions and few-shot examples to find the optimal combination using Bayesian Optimization.\n",
      "\n",
      "2025/04/17 13:01:59 INFO dspy.teleprompt.mipro_optimizer_v2: == Trial 1 / 10 - Full Evaluation of Default Program ==\n"
     ]
    },
    {
     "name": "stdout",
     "output_type": "stream",
     "text": [
      "Average Metric: 70.00 / 100 (70.0%): 100%|██████████| 100/100 [18:02<00:00, 10.82s/it]"
     ]
    },
    {
     "name": "stderr",
     "output_type": "stream",
     "text": [
      "2025/04/17 13:20:02 INFO dspy.evaluate.evaluate: Average Metric: 70.0 / 100 (70.0%)\n",
      "2025/04/17 13:20:02 INFO dspy.teleprompt.mipro_optimizer_v2: Default program score: 70.0\n",
      "\n"
     ]
    },
    {
     "name": "stdout",
     "output_type": "stream",
     "text": [
      "\n"
     ]
    },
    {
     "name": "stderr",
     "output_type": "stream",
     "text": [
      "/home/dipesh/WORKSPACE/LET's Learn/DSPy/dspy_env/lib/python3.12/site-packages/optuna/_experimental.py:31: ExperimentalWarning: Argument ``multivariate`` is an experimental feature. The interface can change in the future.\n",
      "  warnings.warn(\n",
      "2025/04/17 13:20:02 INFO dspy.teleprompt.mipro_optimizer_v2: == Trial 2 / 10 - Minibatch ==\n"
     ]
    },
    {
     "name": "stdout",
     "output_type": "stream",
     "text": [
      "Average Metric: 28.00 / 35 (80.0%): 100%|██████████| 35/35 [08:59<00:00, 15.40s/it]"
     ]
    },
    {
     "name": "stderr",
     "output_type": "stream",
     "text": [
      "2025/04/17 13:29:01 INFO dspy.evaluate.evaluate: Average Metric: 28.0 / 35 (80.0%)\n",
      "2025/04/17 13:29:01 INFO dspy.teleprompt.mipro_optimizer_v2: Score: 80.0 on minibatch of size 35 with parameters ['Predictor 0: Instruction 1', 'Predictor 0: Few-Shot Set 1'].\n",
      "2025/04/17 13:29:01 INFO dspy.teleprompt.mipro_optimizer_v2: Minibatch scores so far: [80.0]\n",
      "2025/04/17 13:29:01 INFO dspy.teleprompt.mipro_optimizer_v2: Full eval scores so far: [70.0]\n",
      "2025/04/17 13:29:01 INFO dspy.teleprompt.mipro_optimizer_v2: Best full score so far: 70.0\n",
      "2025/04/17 13:29:01 INFO dspy.teleprompt.mipro_optimizer_v2: =========================================\n",
      "\n",
      "\n",
      "2025/04/17 13:29:01 INFO dspy.teleprompt.mipro_optimizer_v2: == Trial 3 / 10 - Minibatch ==\n"
     ]
    },
    {
     "name": "stdout",
     "output_type": "stream",
     "text": [
      "\n",
      "Average Metric: 23.00 / 35 (65.7%): 100%|██████████| 35/35 [10:11<00:00, 17.46s/it]"
     ]
    },
    {
     "name": "stderr",
     "output_type": "stream",
     "text": [
      "2025/04/17 13:39:12 INFO dspy.evaluate.evaluate: Average Metric: 23.0 / 35 (65.7%)\n",
      "2025/04/17 13:39:12 INFO dspy.teleprompt.mipro_optimizer_v2: Score: 65.71 on minibatch of size 35 with parameters ['Predictor 0: Instruction 2', 'Predictor 0: Few-Shot Set 1'].\n",
      "2025/04/17 13:39:12 INFO dspy.teleprompt.mipro_optimizer_v2: Minibatch scores so far: [80.0, 65.71]\n",
      "2025/04/17 13:39:12 INFO dspy.teleprompt.mipro_optimizer_v2: Full eval scores so far: [70.0]\n",
      "2025/04/17 13:39:12 INFO dspy.teleprompt.mipro_optimizer_v2: Best full score so far: 70.0\n",
      "2025/04/17 13:39:12 INFO dspy.teleprompt.mipro_optimizer_v2: =========================================\n",
      "\n",
      "\n",
      "2025/04/17 13:39:12 INFO dspy.teleprompt.mipro_optimizer_v2: == Trial 4 / 10 - Minibatch ==\n"
     ]
    },
    {
     "name": "stdout",
     "output_type": "stream",
     "text": [
      "\n",
      "Average Metric: 27.00 / 35 (77.1%): 100%|██████████| 35/35 [12:14<00:00, 20.99s/it] "
     ]
    },
    {
     "name": "stderr",
     "output_type": "stream",
     "text": [
      "2025/04/17 13:51:27 INFO dspy.evaluate.evaluate: Average Metric: 27.0 / 35 (77.1%)\n",
      "2025/04/17 13:51:27 INFO dspy.teleprompt.mipro_optimizer_v2: Score: 77.14 on minibatch of size 35 with parameters ['Predictor 0: Instruction 4', 'Predictor 0: Few-Shot Set 1'].\n",
      "2025/04/17 13:51:27 INFO dspy.teleprompt.mipro_optimizer_v2: Minibatch scores so far: [80.0, 65.71, 77.14]\n",
      "2025/04/17 13:51:27 INFO dspy.teleprompt.mipro_optimizer_v2: Full eval scores so far: [70.0]\n",
      "2025/04/17 13:51:27 INFO dspy.teleprompt.mipro_optimizer_v2: Best full score so far: 70.0\n",
      "2025/04/17 13:51:27 INFO dspy.teleprompt.mipro_optimizer_v2: =========================================\n",
      "\n",
      "\n",
      "2025/04/17 13:51:27 INFO dspy.teleprompt.mipro_optimizer_v2: == Trial 5 / 10 - Minibatch ==\n"
     ]
    },
    {
     "name": "stdout",
     "output_type": "stream",
     "text": [
      "\n",
      "Average Metric: 24.00 / 35 (68.6%): : 37it [09:22, 15.20s/it]                      "
     ]
    },
    {
     "name": "stderr",
     "output_type": "stream",
     "text": [
      "2025/04/17 14:00:49 INFO dspy.evaluate.evaluate: Average Metric: 24.0 / 35 (68.6%)\n"
     ]
    },
    {
     "name": "stdout",
     "output_type": "stream",
     "text": [
      "\n"
     ]
    },
    {
     "name": "stderr",
     "output_type": "stream",
     "text": [
      "2025/04/17 14:00:50 INFO dspy.teleprompt.mipro_optimizer_v2: Score: 68.57 on minibatch of size 35 with parameters ['Predictor 0: Instruction 2', 'Predictor 0: Few-Shot Set 1'].\n",
      "2025/04/17 14:00:50 INFO dspy.teleprompt.mipro_optimizer_v2: Minibatch scores so far: [80.0, 65.71, 77.14, 68.57]\n",
      "2025/04/17 14:00:50 INFO dspy.teleprompt.mipro_optimizer_v2: Full eval scores so far: [70.0]\n",
      "2025/04/17 14:00:50 INFO dspy.teleprompt.mipro_optimizer_v2: Best full score so far: 70.0\n",
      "2025/04/17 14:00:50 INFO dspy.teleprompt.mipro_optimizer_v2: =========================================\n",
      "\n",
      "\n",
      "2025/04/17 14:00:50 INFO dspy.teleprompt.mipro_optimizer_v2: == Trial 6 / 10 - Minibatch ==\n"
     ]
    },
    {
     "name": "stdout",
     "output_type": "stream",
     "text": [
      "Average Metric: 29.00 / 35 (82.9%): 100%|██████████| 35/35 [10:08<00:00, 17.40s/it]"
     ]
    },
    {
     "name": "stderr",
     "output_type": "stream",
     "text": [
      "2025/04/17 14:10:59 INFO dspy.evaluate.evaluate: Average Metric: 29.0 / 35 (82.9%)\n"
     ]
    },
    {
     "name": "stdout",
     "output_type": "stream",
     "text": [
      "\n"
     ]
    },
    {
     "name": "stderr",
     "output_type": "stream",
     "text": [
      "2025/04/17 14:10:59 INFO dspy.teleprompt.mipro_optimizer_v2: Score: 82.86 on minibatch of size 35 with parameters ['Predictor 0: Instruction 4', 'Predictor 0: Few-Shot Set 3'].\n",
      "2025/04/17 14:10:59 INFO dspy.teleprompt.mipro_optimizer_v2: Minibatch scores so far: [80.0, 65.71, 77.14, 68.57, 82.86]\n",
      "2025/04/17 14:10:59 INFO dspy.teleprompt.mipro_optimizer_v2: Full eval scores so far: [70.0]\n",
      "2025/04/17 14:10:59 INFO dspy.teleprompt.mipro_optimizer_v2: Best full score so far: 70.0\n",
      "2025/04/17 14:10:59 INFO dspy.teleprompt.mipro_optimizer_v2: =========================================\n",
      "\n",
      "\n",
      "2025/04/17 14:10:59 INFO dspy.teleprompt.mipro_optimizer_v2: ===== Trial 7 / 10 - Full Evaluation =====\n",
      "2025/04/17 14:10:59 INFO dspy.teleprompt.mipro_optimizer_v2: Doing full eval on next top averaging program (Avg Score: 82.86) from minibatch trials...\n"
     ]
    },
    {
     "name": "stdout",
     "output_type": "stream",
     "text": [
      "Average Metric: 78.00 / 100 (78.0%): 100%|██████████| 100/100 [20:57<00:00, 12.57s/it]"
     ]
    },
    {
     "name": "stderr",
     "output_type": "stream",
     "text": [
      "2025/04/17 14:31:56 INFO dspy.evaluate.evaluate: Average Metric: 78.0 / 100 (78.0%)\n"
     ]
    },
    {
     "name": "stdout",
     "output_type": "stream",
     "text": [
      "\n"
     ]
    },
    {
     "name": "stderr",
     "output_type": "stream",
     "text": [
      "2025/04/17 14:31:57 INFO dspy.teleprompt.mipro_optimizer_v2: \u001b[92mNew best full eval score!\u001b[0m Score: 78.0\n",
      "2025/04/17 14:31:57 INFO dspy.teleprompt.mipro_optimizer_v2: Full eval scores so far: [70.0, 78.0]\n",
      "2025/04/17 14:31:57 INFO dspy.teleprompt.mipro_optimizer_v2: Best full score so far: 78.0\n",
      "2025/04/17 14:31:57 INFO dspy.teleprompt.mipro_optimizer_v2: =======================\n",
      "2025/04/17 14:31:57 INFO dspy.teleprompt.mipro_optimizer_v2: \n",
      "\n",
      "2025/04/17 14:31:57 INFO dspy.teleprompt.mipro_optimizer_v2: == Trial 8 / 10 - Minibatch ==\n"
     ]
    },
    {
     "name": "stdout",
     "output_type": "stream",
     "text": [
      "Average Metric: 22.00 / 35 (62.9%): 100%|██████████| 35/35 [08:59<00:00, 15.42s/it]"
     ]
    },
    {
     "name": "stderr",
     "output_type": "stream",
     "text": [
      "2025/04/17 14:40:57 INFO dspy.evaluate.evaluate: Average Metric: 22.0 / 35 (62.9%)\n",
      "2025/04/17 14:40:57 INFO dspy.teleprompt.mipro_optimizer_v2: Score: 62.86 on minibatch of size 35 with parameters ['Predictor 0: Instruction 0', 'Predictor 0: Few-Shot Set 1'].\n",
      "2025/04/17 14:40:57 INFO dspy.teleprompt.mipro_optimizer_v2: Minibatch scores so far: [80.0, 65.71, 77.14, 68.57, 82.86, 62.86]\n",
      "2025/04/17 14:40:57 INFO dspy.teleprompt.mipro_optimizer_v2: Full eval scores so far: [70.0, 78.0]\n",
      "2025/04/17 14:40:57 INFO dspy.teleprompt.mipro_optimizer_v2: Best full score so far: 78.0\n",
      "2025/04/17 14:40:57 INFO dspy.teleprompt.mipro_optimizer_v2: =========================================\n",
      "\n",
      "\n",
      "2025/04/17 14:40:57 INFO dspy.teleprompt.mipro_optimizer_v2: == Trial 9 / 10 - Minibatch ==\n"
     ]
    },
    {
     "name": "stdout",
     "output_type": "stream",
     "text": [
      "\n",
      "Average Metric: 25.00 / 35 (71.4%): 100%|██████████| 35/35 [11:37<00:00, 19.92s/it]"
     ]
    },
    {
     "name": "stderr",
     "output_type": "stream",
     "text": [
      "2025/04/17 14:52:34 INFO dspy.evaluate.evaluate: Average Metric: 25.0 / 35 (71.4%)\n",
      "2025/04/17 14:52:34 INFO dspy.teleprompt.mipro_optimizer_v2: Score: 71.43 on minibatch of size 35 with parameters ['Predictor 0: Instruction 4', 'Predictor 0: Few-Shot Set 4'].\n",
      "2025/04/17 14:52:34 INFO dspy.teleprompt.mipro_optimizer_v2: Minibatch scores so far: [80.0, 65.71, 77.14, 68.57, 82.86, 62.86, 71.43]\n",
      "2025/04/17 14:52:34 INFO dspy.teleprompt.mipro_optimizer_v2: Full eval scores so far: [70.0, 78.0]\n",
      "2025/04/17 14:52:34 INFO dspy.teleprompt.mipro_optimizer_v2: Best full score so far: 78.0\n",
      "2025/04/17 14:52:34 INFO dspy.teleprompt.mipro_optimizer_v2: =========================================\n",
      "\n",
      "\n",
      "2025/04/17 14:52:34 INFO dspy.teleprompt.mipro_optimizer_v2: ===== Trial 10 / 10 - Full Evaluation =====\n",
      "2025/04/17 14:52:34 INFO dspy.teleprompt.mipro_optimizer_v2: Doing full eval on next top averaging program (Avg Score: 80.0) from minibatch trials...\n"
     ]
    },
    {
     "name": "stdout",
     "output_type": "stream",
     "text": [
      "\n",
      "Average Metric: 74.00 / 100 (74.0%): 100%|██████████| 100/100 [16:23<00:00,  9.83s/it]"
     ]
    },
    {
     "name": "stderr",
     "output_type": "stream",
     "text": [
      "2025/04/17 15:08:57 INFO dspy.evaluate.evaluate: Average Metric: 74.0 / 100 (74.0%)\n",
      "2025/04/17 15:08:57 INFO dspy.teleprompt.mipro_optimizer_v2: Full eval scores so far: [70.0, 78.0, 74.0]\n",
      "2025/04/17 15:08:57 INFO dspy.teleprompt.mipro_optimizer_v2: Best full score so far: 78.0\n",
      "2025/04/17 15:08:57 INFO dspy.teleprompt.mipro_optimizer_v2: =======================\n",
      "2025/04/17 15:08:57 INFO dspy.teleprompt.mipro_optimizer_v2: \n",
      "\n",
      "2025/04/17 15:08:57 INFO dspy.teleprompt.mipro_optimizer_v2: Returning best identified program with score 78.0!\n"
     ]
    },
    {
     "name": "stdout",
     "output_type": "stream",
     "text": [
      "\n"
     ]
    },
    {
     "data": {
      "text/html": [
       "\n",
       "<div>\n",
       "  <style scoped>\n",
       "  button {\n",
       "    border: none;\n",
       "    border-radius: 4px;\n",
       "    background-color: rgb(34, 114, 180);\n",
       "    font-family: -apple-system, \"system-ui\", \"Segoe UI\", Roboto, \"Helvetica Neue\", Arial;\n",
       "    font-size: 13px;\n",
       "    color: white;\n",
       "    margin-top: 8px;\n",
       "    margin-bottom: 8px;\n",
       "    padding: 8px 16px;\n",
       "    cursor: pointer;\n",
       "  }\n",
       "  button:hover {\n",
       "    background-color: rgb(66, 153, 224);\n",
       "  }\n",
       "  </style>\n",
       "  <button\n",
       "    onclick=\"\n",
       "        const display = this.nextElementSibling.style.display;\n",
       "        const isCollapsed = display === 'none';\n",
       "        this.nextElementSibling.style.display = isCollapsed ? null : 'none';\n",
       "\n",
       "        const verb = isCollapsed ? 'Collapse' : 'Expand';\n",
       "        this.innerText = `${verb} MLflow Trace`;\n",
       "    \"\n",
       "  >Collapse MLflow Trace</button>\n",
       "  <iframe\n",
       "    id=\"trace-renderer\"\n",
       "    style=\"width: 100%; height: 500px; border: none; resize: vertical;\"\n",
       "    src=\"http://localhost:5000/static-files/lib/notebook-trace-renderer/index.html?trace_id=b82b2874bedb4591b3d21340743be14c&amp;experiment_id=743460322438934521&amp;trace_id=d409dc5881fd41b58f4a57a86d830e1c&amp;experiment_id=743460322438934521&amp;trace_id=57a62c8049ae463db18bfddd4d636651&amp;experiment_id=743460322438934521&amp;trace_id=a893c0acf91349258c23d076f8927b62&amp;experiment_id=743460322438934521&amp;trace_id=8a4b508d3260475187fc2db5055d6166&amp;experiment_id=743460322438934521&amp;trace_id=d74333be9aa34f66ae593305a9e440dd&amp;experiment_id=743460322438934521&amp;trace_id=0be23080792a42f5b1bbe385b0d18a18&amp;experiment_id=743460322438934521&amp;trace_id=c3e9e2c0a4204af5b55c60aca2fbb4a3&amp;experiment_id=743460322438934521&amp;trace_id=985dbfffce87464fa9ca7635f01d19e7&amp;experiment_id=743460322438934521&amp;trace_id=ad365f049464496cb0fc12d8387c1942&amp;experiment_id=743460322438934521&amp;version=2.21.3\"\n",
       "  />\n",
       "</div>\n"
      ],
      "text/plain": [
       "[Trace(request_id=b82b2874bedb4591b3d21340743be14c), Trace(request_id=d409dc5881fd41b58f4a57a86d830e1c), Trace(request_id=57a62c8049ae463db18bfddd4d636651), Trace(request_id=a893c0acf91349258c23d076f8927b62), Trace(request_id=8a4b508d3260475187fc2db5055d6166), Trace(request_id=d74333be9aa34f66ae593305a9e440dd), Trace(request_id=0be23080792a42f5b1bbe385b0d18a18), Trace(request_id=c3e9e2c0a4204af5b55c60aca2fbb4a3), Trace(request_id=985dbfffce87464fa9ca7635f01d19e7), Trace(request_id=ad365f049464496cb0fc12d8387c1942)]"
      ]
     },
     "metadata": {},
     "output_type": "display_data"
    }
   ],
   "source": [
    "optimized_program = optimizer.compile(\n",
    "    program,  # Your pipeline model\n",
    "    trainset=trainset,\n",
    "    num_trials=15,  \n",
    "    valset=devset,  # Optional validation set\n",
    "    max_bootstrapped_demos=4,\n",
    "    max_labeled_demos=5,\n",
    ")"
   ]
  },
  {
   "cell_type": "markdown",
   "metadata": {},
   "source": [
    "**Here, easily we could trace out that it optimized the program by selecting the best combination of instructions and fewshots/demos**"
   ]
  },
  {
   "cell_type": "code",
   "execution_count": 28,
   "metadata": {},
   "outputs": [],
   "source": [
    "optimized_program.set_lm(lm=lm)"
   ]
  },
  {
   "cell_type": "code",
   "execution_count": 29,
   "metadata": {},
   "outputs": [],
   "source": [
    "optimized_program.save(\"mipro_optimized_deepseekr1-14b_latest.json\")"
   ]
  },
  {
   "cell_type": "code",
   "execution_count": 30,
   "metadata": {},
   "outputs": [
    {
     "data": {
      "text/plain": [
       "Prediction(\n",
       "    reasoning='The user is asking about obtaining a new physical card, which involves the process of ordering or receiving a replacement card.',\n",
       "    label='order_physical_card'\n",
       ")"
      ]
     },
     "execution_count": 30,
     "metadata": {},
     "output_type": "execute_result"
    },
    {
     "data": {
      "text/html": [
       "\n",
       "<div>\n",
       "  <style scoped>\n",
       "  button {\n",
       "    border: none;\n",
       "    border-radius: 4px;\n",
       "    background-color: rgb(34, 114, 180);\n",
       "    font-family: -apple-system, \"system-ui\", \"Segoe UI\", Roboto, \"Helvetica Neue\", Arial;\n",
       "    font-size: 13px;\n",
       "    color: white;\n",
       "    margin-top: 8px;\n",
       "    margin-bottom: 8px;\n",
       "    padding: 8px 16px;\n",
       "    cursor: pointer;\n",
       "  }\n",
       "  button:hover {\n",
       "    background-color: rgb(66, 153, 224);\n",
       "  }\n",
       "  </style>\n",
       "  <button\n",
       "    onclick=\"\n",
       "        const display = this.nextElementSibling.style.display;\n",
       "        const isCollapsed = display === 'none';\n",
       "        this.nextElementSibling.style.display = isCollapsed ? null : 'none';\n",
       "\n",
       "        const verb = isCollapsed ? 'Collapse' : 'Expand';\n",
       "        this.innerText = `${verb} MLflow Trace`;\n",
       "    \"\n",
       "  >Collapse MLflow Trace</button>\n",
       "  <iframe\n",
       "    id=\"trace-renderer\"\n",
       "    style=\"width: 100%; height: 500px; border: none; resize: vertical;\"\n",
       "    src=\"http://localhost:5000/static-files/lib/notebook-trace-renderer/index.html?trace_id=c3cdcd2dddd641c0b03c14adab7d2e39&amp;experiment_id=743460322438934521&amp;version=2.21.3\"\n",
       "  />\n",
       "</div>\n"
      ],
      "text/plain": [
       "Trace(request_id=c3cdcd2dddd641c0b03c14adab7d2e39)"
      ]
     },
     "metadata": {},
     "output_type": "display_data"
    }
   ],
   "source": [
    "optimized_program(text=\"Where can i get new card ?\")"
   ]
  },
  {
   "cell_type": "code",
   "execution_count": 31,
   "metadata": {},
   "outputs": [
    {
     "name": "stdout",
     "output_type": "stream",
     "text": [
      "\n",
      "\n",
      "\n",
      "\n",
      "\u001b[34m[2025-04-17T15:10:08.536607]\u001b[0m\n",
      "\n",
      "\u001b[31mSystem message:\u001b[0m\n",
      "\n",
      "Your input fields are:\n",
      "1. `text` (str)\n",
      "Your output fields are:\n",
      "1. `reasoning` (str)\n",
      "2. `label` (Literal['activate_my_card', 'age_limit', 'apple_pay_or_google_pay', 'atm_support', 'automatic_top_up', 'balance_not_updated_after_bank_transfer', 'balance_not_updated_after_cheque_or_cash_deposit', 'beneficiary_not_allowed', 'cancel_transfer', 'card_about_to_expire', 'card_acceptance', 'card_arrival', 'card_delivery_estimate', 'card_linking', 'card_not_working', 'card_payment_fee_charged', 'card_payment_not_recognised', 'card_payment_wrong_exchange_rate', 'card_swallowed', 'cash_withdrawal_charge', 'cash_withdrawal_not_recognised', 'change_pin', 'compromised_card', 'contactless_not_working', 'country_support', 'declined_card_payment', 'declined_cash_withdrawal', 'declined_transfer', 'direct_debit_payment_not_recognised', 'disposable_card_limits', 'edit_personal_details', 'exchange_charge', 'exchange_rate', 'exchange_via_app', 'extra_charge_on_statement', 'failed_transfer', 'fiat_currency_support', 'get_disposable_virtual_card', 'get_physical_card', 'getting_spare_card', 'getting_virtual_card', 'lost_or_stolen_card', 'lost_or_stolen_phone', 'order_physical_card', 'passcode_forgotten', 'pending_card_payment', 'pending_cash_withdrawal', 'pending_top_up', 'pending_transfer', 'pin_blocked', 'receiving_money', 'Refund_not_showing_up', 'request_refund', 'reverted_card_payment?', 'supported_cards_and_currencies', 'terminate_account', 'top_up_by_bank_transfer_charge', 'top_up_by_card_charge', 'top_up_by_cash_or_cheque', 'top_up_failed', 'top_up_limits', 'top_up_reverted', 'topping_up_by_card', 'transaction_charged_twice', 'transfer_fee_charged', 'transfer_into_account', 'transfer_not_received_by_recipient', 'transfer_timing', 'unable_to_verify_identity', 'verify_my_identity', 'verify_source_of_funds', 'verify_top_up', 'virtual_card_not_working', 'visa_or_mastercard', 'why_verify_identity', 'wrong_amount_of_cash_received', 'wrong_exchange_rate_for_cash_withdrawal'])\n",
      "All interactions will be structured in the following way, with the appropriate values filled in.\n",
      "\n",
      "[[ ## text ## ]]\n",
      "{text}\n",
      "\n",
      "[[ ## reasoning ## ]]\n",
      "{reasoning}\n",
      "\n",
      "[[ ## label ## ]]\n",
      "{label}        # note: the value you produce must exactly match (no extra characters) one of: activate_my_card; age_limit; apple_pay_or_google_pay; atm_support; automatic_top_up; balance_not_updated_after_bank_transfer; balance_not_updated_after_cheque_or_cash_deposit; beneficiary_not_allowed; cancel_transfer; card_about_to_expire; card_acceptance; card_arrival; card_delivery_estimate; card_linking; card_not_working; card_payment_fee_charged; card_payment_not_recognised; card_payment_wrong_exchange_rate; card_swallowed; cash_withdrawal_charge; cash_withdrawal_not_recognised; change_pin; compromised_card; contactless_not_working; country_support; declined_card_payment; declined_cash_withdrawal; declined_transfer; direct_debit_payment_not_recognised; disposable_card_limits; edit_personal_details; exchange_charge; exchange_rate; exchange_via_app; extra_charge_on_statement; failed_transfer; fiat_currency_support; get_disposable_virtual_card; get_physical_card; getting_spare_card; getting_virtual_card; lost_or_stolen_card; lost_or_stolen_phone; order_physical_card; passcode_forgotten; pending_card_payment; pending_cash_withdrawal; pending_top_up; pending_transfer; pin_blocked; receiving_money; Refund_not_showing_up; request_refund; reverted_card_payment?; supported_cards_and_currencies; terminate_account; top_up_by_bank_transfer_charge; top_up_by_card_charge; top_up_by_cash_or_cheque; top_up_failed; top_up_limits; top_up_reverted; topping_up_by_card; transaction_charged_twice; transfer_fee_charged; transfer_into_account; transfer_not_received_by_recipient; transfer_timing; unable_to_verify_identity; verify_my_identity; verify_source_of_funds; verify_top_up; virtual_card_not_working; visa_or_mastercard; why_verify_identity; wrong_amount_of_cash_received; wrong_exchange_rate_for_cash_withdrawal\n",
      "\n",
      "[[ ## completed ## ]]\n",
      "In adhering to this structure, your objective is: \n",
      "        You are an expert in classifying customer inquiries related to banking or financial services into predefined categories. Given a text input, you will analyze it step by step and determine the most appropriate category it belongs to. This classification is crucial as it directly impacts how customer issues are resolved and addressed.\n",
      "        \n",
      "        For example:\n",
      "        - If a user asks about an unexpected charge on their statement, such as \"I checked my statement and am being charged one pound. Where did this charge come from?\", you would need to reason through the query and categorize it under labels like \"extra_charge_on_statement\".\n",
      "        - Similarly, if a user reports a problem with a transaction or fee, your analysis will guide the proper resolution process.\n",
      "        \n",
      "        Your task is to carefully analyze each text input and provide both the reasoning process and the corresponding label for that text. The accuracy of this classification is critical in ensuring customer satisfaction and effective issue resolution.\n",
      "\n",
      "\n",
      "\u001b[31mUser message:\u001b[0m\n",
      "\n",
      "This is an example of the task, though some input or output fields are not supplied.\n",
      "\n",
      "[[ ## text ## ]]\n",
      "I was charged $1 in a transaction.\n",
      "\n",
      "\n",
      "\u001b[31mAssistant message:\u001b[0m\n",
      "\n",
      "[[ ## reasoning ## ]]\n",
      "Not supplied for this particular example. \n",
      "\n",
      "[[ ## label ## ]]\n",
      "extra_charge_on_statement\n",
      "\n",
      "\n",
      "\u001b[31mUser message:\u001b[0m\n",
      "\n",
      "This is an example of the task, though some input or output fields are not supplied.\n",
      "\n",
      "[[ ## text ## ]]\n",
      "Why does my account show as pending a cash withdrawal from the ATM that I have already made?\n",
      "\n",
      "\n",
      "\u001b[31mAssistant message:\u001b[0m\n",
      "\n",
      "[[ ## reasoning ## ]]\n",
      "Not supplied for this particular example. \n",
      "\n",
      "[[ ## label ## ]]\n",
      "pending_cash_withdrawal\n",
      "\n",
      "\n",
      "\u001b[31mUser message:\u001b[0m\n",
      "\n",
      "[[ ## text ## ]]\n",
      "How do I track the card you sent to me?\n",
      "\n",
      "\n",
      "\u001b[31mAssistant message:\u001b[0m\n",
      "\n",
      "[[ ## reasoning ## ]]\n",
      "The user is asking about tracking a physical card that was sent to them, which relates to understanding when and how the card will arrive.\n",
      "\n",
      "[[ ## label ## ]]\n",
      "card_arrival\n",
      "\n",
      "\n",
      "\u001b[31mUser message:\u001b[0m\n",
      "\n",
      "[[ ## text ## ]]\n",
      "Can I re-link a lost card with the app?\n",
      "\n",
      "\n",
      "\u001b[31mAssistant message:\u001b[0m\n",
      "\n",
      "[[ ## reasoning ## ]]\n",
      "The user is asking if they can re-link a lost card with the app, which falls under the category of card linking.\n",
      "\n",
      "[[ ## label ## ]]\n",
      "card_linking\n",
      "\n",
      "\n",
      "\u001b[31mUser message:\u001b[0m\n",
      "\n",
      "[[ ## text ## ]]\n",
      "Will you work with any fiat currencies?\n",
      "\n",
      "\n",
      "\u001b[31mAssistant message:\u001b[0m\n",
      "\n",
      "[[ ## reasoning ## ]]\n",
      "The user is asking whether the service works with any fiat currencies, which relates to the supported fiat currencies by the organization.\n",
      "\n",
      "[[ ## label ## ]]\n",
      "fiat_currency_support\n",
      "\n",
      "\n",
      "\u001b[31mUser message:\u001b[0m\n",
      "\n",
      "[[ ## text ## ]]\n",
      "Where can i get new card ?\n",
      "\n",
      "Respond with the corresponding output fields, starting with the field `[[ ## reasoning ## ]]`, then `[[ ## label ## ]]` (must be formatted as a valid Python Literal['activate_my_card', 'age_limit', 'apple_pay_or_google_pay', 'atm_support', 'automatic_top_up', 'balance_not_updated_after_bank_transfer', 'balance_not_updated_after_cheque_or_cash_deposit', 'beneficiary_not_allowed', 'cancel_transfer', 'card_about_to_expire', 'card_acceptance', 'card_arrival', 'card_delivery_estimate', 'card_linking', 'card_not_working', 'card_payment_fee_charged', 'card_payment_not_recognised', 'card_payment_wrong_exchange_rate', 'card_swallowed', 'cash_withdrawal_charge', 'cash_withdrawal_not_recognised', 'change_pin', 'compromised_card', 'contactless_not_working', 'country_support', 'declined_card_payment', 'declined_cash_withdrawal', 'declined_transfer', 'direct_debit_payment_not_recognised', 'disposable_card_limits', 'edit_personal_details', 'exchange_charge', 'exchange_rate', 'exchange_via_app', 'extra_charge_on_statement', 'failed_transfer', 'fiat_currency_support', 'get_disposable_virtual_card', 'get_physical_card', 'getting_spare_card', 'getting_virtual_card', 'lost_or_stolen_card', 'lost_or_stolen_phone', 'order_physical_card', 'passcode_forgotten', 'pending_card_payment', 'pending_cash_withdrawal', 'pending_top_up', 'pending_transfer', 'pin_blocked', 'receiving_money', 'Refund_not_showing_up', 'request_refund', 'reverted_card_payment?', 'supported_cards_and_currencies', 'terminate_account', 'top_up_by_bank_transfer_charge', 'top_up_by_card_charge', 'top_up_by_cash_or_cheque', 'top_up_failed', 'top_up_limits', 'top_up_reverted', 'topping_up_by_card', 'transaction_charged_twice', 'transfer_fee_charged', 'transfer_into_account', 'transfer_not_received_by_recipient', 'transfer_timing', 'unable_to_verify_identity', 'verify_my_identity', 'verify_source_of_funds', 'verify_top_up', 'virtual_card_not_working', 'visa_or_mastercard', 'why_verify_identity', 'wrong_amount_of_cash_received', 'wrong_exchange_rate_for_cash_withdrawal']), and then ending with the marker for `[[ ## completed ## ]]`.\n",
      "\n",
      "\n",
      "\u001b[31mResponse:\u001b[0m\n",
      "\n",
      "\u001b[32m<think>\n",
      "Okay, so I'm trying to figure out how to classify this user's question: \"Where can i get new card ?\". Let me break it down step by step. \n",
      "\n",
      "First, the user is asking about getting a new card. That immediately makes me think they might have lost their current one or perhaps it was stolen. They're looking for information on where to obtain a replacement. \n",
      "\n",
      "Looking at the available labels, I need to find which one best fits this query. Let's consider some options. \"order_physical_card\" seems relevant because the user is asking about getting a new physical card. Alternatively, \"get_physical_card\" could also fit since that directly relates to obtaining a physical card.\n",
      "\n",
      "I should think about whether there are other possible labels. For example, \"card_linking\" might be related if they're trying to reconnect an existing card, but that doesn't seem to apply here. The user isn't reporting the card as lost or stolen in this query, so those specific labels like \"lost_or_stolen_card\" don't fit.\n",
      "\n",
      "Another option could be \"getting_spare_card\", which is about obtaining a replacement. But I'm not sure if that's an exact match for the given options. The available label seems to have \"order_physical_card\" and \"get_physical_card\" as more direct matches.\n",
      "\n",
      "Considering the user's phrasing, they're asking where to get it, so it's more about the process of obtaining a new one rather than reporting it lost or stolen. Therefore, the most appropriate labels would be either \"order_physical_card\" or \"get_physical_card\". \n",
      "\n",
      "Between these two, \"order_physical_card\" might imply placing an order for a new card, which is a proactive step after realizing they need a replacement. On the other hand, \"get_physical_card\" is more general and could encompass ordering as part of getting it.\n",
      "\n",
      "I think \"order_physical_card\" is slightly more specific to the action of obtaining a new one, so that might be the best fit. However, both labels are closely related, and either could make sense depending on the exact process the service has for issuing new cards.\n",
      "\n",
      "In conclusion, the user's question about where to get a new card falls under ordering or getting a physical card, making \"order_physical_card\" the most suitable label.\n",
      "</think>\n",
      "\n",
      "[[ ## reasoning ## ]]\n",
      "The user is asking about obtaining a new physical card, which involves the process of ordering or receiving a replacement card.\n",
      "\n",
      "[[ ## label ## ]]\n",
      "order_physical_card\u001b[0m\n",
      "\n",
      "\n",
      "\n",
      "\n",
      "\n"
     ]
    }
   ],
   "source": [
    "lm.inspect_history(1)"
   ]
  },
  {
   "cell_type": "markdown",
   "metadata": {},
   "source": [
    "**Here , we could see the prompt for the optimized program is now :-**\n",
    "\n",
    "*[\n",
    "  {\n",
    "    \"role\": \"system\",\n",
    "    \"content\": \"Your input fields are:\\n1. `text` (str)\\nYour output fields are:\\n1. `reasoning` (str)\\n2. `label` (Literal['activate_my_card', 'age_limit', 'apple_pay_or_google_pay', 'atm_support', 'automatic_top_up', 'balance_not_updated_after_bank_transfer', 'balance_not_updated_after_cheque_or_cash_deposit', 'beneficiary_not_allowed', 'cancel_transfer', 'card_about_to_expire', 'card_acceptance', 'card_arrival', 'card_delivery_estimate', 'card_linking', 'card_not_working', 'card_payment_fee_charged', 'card_payment_not_recognised', 'card_payment_wrong_exchange_rate', 'card_swallowed', 'cash_withdrawal_charge', 'cash_withdrawal_not_recognised', 'change_pin', 'compromised_card', 'contactless_not_working', 'country_support', 'declined_card_payment', 'declined_cash_withdrawal', 'declined_transfer', 'direct_debit_payment_not_recognised', 'disposable_card_limits', 'edit_personal_details', 'exchange_charge', 'exchange_rate', 'exchange_via_app', 'extra_charge_on_statement', 'failed_transfer', 'fiat_currency_support', 'get_disposable_virtual_card', 'get_physical_card', 'getting_spare_card', 'getting_virtual_card', 'lost_or_stolen_card', 'lost_or_stolen_phone', 'order_physical_card', 'passcode_forgotten', 'pending_card_payment', 'pending_cash_withdrawal', 'pending_top_up', 'pending_transfer', 'pin_blocked', 'receiving_money', 'Refund_not_showing_up', 'request_refund', 'reverted_card_payment?', 'supported_cards_and_currencies', 'terminate_account', 'top_up_by_bank_transfer_charge', 'top_up_by_card_charge', 'top_up_by_cash_or_cheque', 'top_up_failed', 'top_up_limits', 'top_up_reverted', 'topping_up_by_card', 'transaction_charged_twice', 'transfer_fee_charged', 'transfer_into_account', 'transfer_not_received_by_recipient', 'transfer_timing', 'unable_to_verify_identity', 'verify_my_identity', 'verify_source_of_funds', 'verify_top_up', 'virtual_card_not_working', 'visa_or_mastercard', 'why_verify_identity', 'wrong_amount_of_cash_received', 'wrong_exchange_rate_for_cash_withdrawal'])\\nAll interactions will be structured in the following way, with the appropriate values filled in.\\n\\n[[ ## text ## ]]\\n{text}\\n\\n[[ ## reasoning ## ]]\\n{reasoning}\\n\\n[[ ## label ## ]]\\n{label}        # note: the value you produce must exactly match (no extra characters) one of: activate_my_card; age_limit; apple_pay_or_google_pay; atm_support; automatic_top_up; balance_not_updated_after_bank_transfer; balance_not_updated_after_cheque_or_cash_deposit; beneficiary_not_allowed; cancel_transfer; card_about_to_expire; card_acceptance; card_arrival; card_delivery_estimate; card_linking; card_not_working; card_payment_fee_charged; card_payment_not_recognised; card_payment_wrong_exchange_rate; card_swallowed; cash_withdrawal_charge; cash_withdrawal_not_recognised; change_pin; compromised_card; contactless_not_working; country_support; declined_card_payment; declined_cash_withdrawal; declined_transfer; direct_debit_payment_not_recognised; disposable_card_limits; edit_personal_details; exchange_charge; exchange_rate; exchange_via_app; extra_charge_on_statement; failed_transfer; fiat_currency_support; get_disposable_virtual_card; get_physical_card; getting_spare_card; getting_virtual_card; lost_or_stolen_card; lost_or_stolen_phone; order_physical_card; passcode_forgotten; pending_card_payment; pending_cash_withdrawal; pending_top_up; pending_transfer; pin_blocked; receiving_money; Refund_not_showing_up; request_refund; reverted_card_payment?; supported_cards_and_currencies; terminate_account; top_up_by_bank_transfer_charge; top_up_by_card_charge; top_up_by_cash_or_cheque; top_up_failed; top_up_limits; top_up_reverted; topping_up_by_card; transaction_charged_twice; transfer_fee_charged; transfer_into_account; transfer_not_received_by_recipient; transfer_timing; unable_to_verify_identity; verify_my_identity; verify_source_of_funds; verify_top_up; virtual_card_not_working; visa_or_mastercard; why_verify_identity; wrong_amount_of_cash_received; wrong_exchange_rate_for_cash_withdrawal\\n\\n[[ ## completed ## ]]\\nIn adhering to this structure, your objective is: \\n        Given the fields `text`, produce the fields `label`.\"\n",
    "  },\n",
    "  {\n",
    "    \"role\": \"user\",\n",
    "    \"content\": \"This is an example of the task, though some input or output fields are not supplied.\\n\\n[[ ## text ## ]]\\nMy card is no longer lost. How do I enter it back into the app?\"\n",
    "  },\n",
    "  {\n",
    "    \"role\": \"assistant\",\n",
    "    \"content\": \"[[ ## reasoning ## ]]\\nNot supplied for this particular example. \\n\\n[[ ## label ## ]]\\ncard_linking\"\n",
    "  },\n",
    "  {\n",
    "    \"role\": \"user\",\n",
    "    \"content\": \"This is an example of the task, though some input or output fields are not supplied.\\n\\n[[ ## text ## ]]\\nThere is an extra 1£ charge on my app. Why did you charge me extra?\"\n",
    "  },\n",
    "  {\n",
    "    \"role\": \"assistant\",\n",
    "    \"content\": \"[[ ## reasoning ## ]]\\nNot supplied for this particular example. \\n\\n[[ ## label ## ]]\\nextra_charge_on_statement\"\n",
    "  },\n",
    "  {\n",
    "    \"role\": \"user\",\n",
    "    \"content\": \"This is an example of the task, though some input or output fields are not supplied.\\n\\n[[ ## text ## ]]\\nYour foreign exchange rate is wrong.\"\n",
    "  },\n",
    "  {\n",
    "    \"role\": \"assistant\",\n",
    "    \"content\": \"[[ ## reasoning ## ]]\\nNot supplied for this particular example. \\n\\n[[ ## label ## ]]\\ncard_payment_wrong_exchange_rate\"\n",
    "  },\n",
    "  {\n",
    "    \"role\": \"user\",\n",
    "    \"content\": \"This is an example of the task, though some input or output fields are not supplied.\\n\\n[[ ## text ## ]]\\nI was charged the wing amount for an item.\"\n",
    "  },\n",
    "  {\n",
    "    \"role\": \"assistant\",\n",
    "    \"content\": \"[[ ## reasoning ## ]]\\nNot supplied for this particular example. \\n\\n[[ ## label ## ]]\\ncard_payment_wrong_exchange_rate\"\n",
    "  },\n",
    "  {\n",
    "    \"role\": \"user\",\n",
    "    \"content\": \"This is an example of the task, though some input or output fields are not supplied.\\n\\n[[ ## text ## ]]\\nCan you do exchanges of EUR?\"\n",
    "  },\n",
    "  {\n",
    "    \"role\": \"assistant\",\n",
    "    \"content\": \"[[ ## reasoning ## ]]\\nNot supplied for this particular example. \\n\\n[[ ## label ## ]]\\nfiat_currency_support\"\n",
    "  },\n",
    "  {\n",
    "    \"role\": \"user\",\n",
    "    \"content\": \"[[ ## text ## ]]\\nWhat if there is an error on the exchange rate?\\n\\nRespond with the corresponding output fields, starting with the field `[[ ## reasoning ## ]]`, then `[[ ## label ## ]]` (must be formatted as a valid Python Literal['activate_my_card', 'age_limit', 'apple_pay_or_google_pay', 'atm_support', 'automatic_top_up', 'balance_not_updated_after_bank_transfer', 'balance_not_updated_after_cheque_or_cash_deposit', 'beneficiary_not_allowed', 'cancel_transfer', 'card_about_to_expire', 'card_acceptance', 'card_arrival', 'card_delivery_estimate', 'card_linking', 'card_not_working', 'card_payment_fee_charged', 'card_payment_not_recognised', 'card_payment_wrong_exchange_rate', 'card_swallowed', 'cash_withdrawal_charge', 'cash_withdrawal_not_recognised', 'change_pin', 'compromised_card', 'contactless_not_working', 'country_support', 'declined_card_payment', 'declined_cash_withdrawal', 'declined_transfer', 'direct_debit_payment_not_recognised', 'disposable_card_limits', 'edit_personal_details', 'exchange_charge', 'exchange_rate', 'exchange_via_app', 'extra_charge_on_statement', 'failed_transfer', 'fiat_currency_support', 'get_disposable_virtual_card', 'get_physical_card', 'getting_spare_card', 'getting_virtual_card', 'lost_or_stolen_card', 'lost_or_stolen_phone', 'order_physical_card', 'passcode_forgotten', 'pending_card_payment', 'pending_cash_withdrawal', 'pending_top_up', 'pending_transfer', 'pin_blocked', 'receiving_money', 'Refund_not_showing_up', 'request_refund', 'reverted_card_payment?', 'supported_cards_and_currencies', 'terminate_account', 'top_up_by_bank_transfer_charge', 'top_up_by_card_charge', 'top_up_by_cash_or_cheque', 'top_up_failed', 'top_up_limits', 'top_up_reverted', 'topping_up_by_card', 'transaction_charged_twice', 'transfer_fee_charged', 'transfer_into_account', 'transfer_not_received_by_recipient', 'transfer_timing', 'unable_to_verify_identity', 'verify_my_identity', 'verify_source_of_funds', 'verify_top_up', 'virtual_card_not_working', 'visa_or_mastercard', 'why_verify_identity', 'wrong_amount_of_cash_received', 'wrong_exchange_rate_for_cash_withdrawal']), and then ending with the marker for `[[ ## completed ## ]]`.\"\n",
    "  }\n",
    "]*"
   ]
  },
  {
   "cell_type": "code",
   "execution_count": null,
   "metadata": {},
   "outputs": [
    {
     "name": "stderr",
     "output_type": "stream",
     "text": [
      "Processing examples: 100%|██████████| 200/200 [2:19:32<00:00, 41.86s/example]  "
     ]
    },
    {
     "name": "stdout",
     "output_type": "stream",
     "text": [
      "\n",
      "Evaluation completed with 0 errors\n",
      "Custom Metric Score: 0.70 (calculated on 200 valid examples)\n"
     ]
    },
    {
     "name": "stderr",
     "output_type": "stream",
     "text": [
      "\n"
     ]
    },
    {
     "data": {
      "text/html": [
       "\n",
       "<div>\n",
       "  <style scoped>\n",
       "  button {\n",
       "    border: none;\n",
       "    border-radius: 4px;\n",
       "    background-color: rgb(34, 114, 180);\n",
       "    font-family: -apple-system, \"system-ui\", \"Segoe UI\", Roboto, \"Helvetica Neue\", Arial;\n",
       "    font-size: 13px;\n",
       "    color: white;\n",
       "    margin-top: 8px;\n",
       "    margin-bottom: 8px;\n",
       "    padding: 8px 16px;\n",
       "    cursor: pointer;\n",
       "  }\n",
       "  button:hover {\n",
       "    background-color: rgb(66, 153, 224);\n",
       "  }\n",
       "  </style>\n",
       "  <button\n",
       "    onclick=\"\n",
       "        const display = this.nextElementSibling.style.display;\n",
       "        const isCollapsed = display === 'none';\n",
       "        this.nextElementSibling.style.display = isCollapsed ? null : 'none';\n",
       "\n",
       "        const verb = isCollapsed ? 'Collapse' : 'Expand';\n",
       "        this.innerText = `${verb} MLflow Trace`;\n",
       "    \"\n",
       "  >Collapse MLflow Trace</button>\n",
       "  <iframe\n",
       "    id=\"trace-renderer\"\n",
       "    style=\"width: 100%; height: 500px; border: none; resize: vertical;\"\n",
       "    src=\"http://localhost:5000/static-files/lib/notebook-trace-renderer/index.html?trace_id=67843e1bad0740a2a4b4dcc2a3a212bb&amp;experiment_id=743460322438934521&amp;trace_id=e3ab9325dd9c4650928813623ad3fd32&amp;experiment_id=743460322438934521&amp;trace_id=9085f9a6d22445969dee43870921cc68&amp;experiment_id=743460322438934521&amp;trace_id=a6a7d877820c41388b9b893bd4143de6&amp;experiment_id=743460322438934521&amp;trace_id=9c1337790a2946dcadaf915af958b7ce&amp;experiment_id=743460322438934521&amp;trace_id=fc6247f46d2a405d9fef92132700302e&amp;experiment_id=743460322438934521&amp;trace_id=dc9863df9c4b4150a9b54fc1427e8238&amp;experiment_id=743460322438934521&amp;trace_id=c9c1a2c6228e4116b43b857a96642308&amp;experiment_id=743460322438934521&amp;trace_id=dbe51ca8fb864572b8e2b5d61d316385&amp;experiment_id=743460322438934521&amp;trace_id=fb12b04a55e148678e75bdcf19cb2ae6&amp;experiment_id=743460322438934521&amp;version=2.21.3\"\n",
       "  />\n",
       "</div>\n"
      ],
      "text/plain": [
       "[Trace(request_id=67843e1bad0740a2a4b4dcc2a3a212bb), Trace(request_id=e3ab9325dd9c4650928813623ad3fd32), Trace(request_id=9085f9a6d22445969dee43870921cc68), Trace(request_id=a6a7d877820c41388b9b893bd4143de6), Trace(request_id=9c1337790a2946dcadaf915af958b7ce), Trace(request_id=fc6247f46d2a405d9fef92132700302e), Trace(request_id=dc9863df9c4b4150a9b54fc1427e8238), Trace(request_id=c9c1a2c6228e4116b43b857a96642308), Trace(request_id=dbe51ca8fb864572b8e2b5d61d316385), Trace(request_id=fb12b04a55e148678e75bdcf19cb2ae6)]"
      ]
     },
     "metadata": {},
     "output_type": "display_data"
    }
   ],
   "source": [
    "# Evaluation on pipeline after optimization\n",
    "evaluate_pipeline(optimized_program, testset_after_optimization)"
   ]
  },
  {
   "cell_type": "markdown",
   "metadata": {},
   "source": [
    "**Score after optimization is 70%**"
   ]
  },
  {
   "cell_type": "markdown",
   "metadata": {},
   "source": [
    "# 8. DSPy Program Comparison: Initial vs Optimized with MIPRO v2\n",
    "\n",
    "\n",
    "\n",
    "## Initial Base Program\n",
    "\n",
    "### Key Features\n",
    "- **Structure**: Strict JSON-based prompt template with `system`, `user`, and `assistant` roles.\n",
    "- **Input/Output Fields**:\n",
    "  - **Input**: `text` (str)\n",
    "  - **Output**: `reasoning` (str), `label` (predefined Literal type).\n",
    "- **Instructions**:\n",
    "  - Explicitly defines valid `label` options in a Python `Literal` format.\n",
    "  - Uses placeholder reasoning (`Not supplied for this example`) in training data.\n",
    "  - Emphasizes strict formatting (e.g., `[[ ## reasoning ## ]]` blocks).\n",
    "- **Examples**:\n",
    "  - Includes 5 labeled examples with minimal reasoning (e.g., `My card is no longer lost → card_linking`).\n",
    "- **Demos**:\n",
    "  - ✅ Contains **5 training demos** with `text` and `label` mappings.\n",
    "  - ❌ No explicit reasoning steps in demos.\n",
    "\n",
    "---\n",
    "\n",
    "## Optimized Program (MIPRO v2)\n",
    "\n",
    "### Key Features\n",
    "- **Structure**: Identical JSON template to the initial program (no structural changes).\n",
    "- **Input/Output Fields**:\n",
    "  - Same as the initial program (`text`, `reasoning`, `label`).\n",
    "- **Optimizations**:\n",
    "  - **Simplified Instructions**: Removes redundant explanations (e.g., `note: the value you produce must exactly match...` is retained but streamlined).\n",
    "  - **Label Consistency**: Fixes potential ambiguities in `label` options (e.g., `reverted_card_payment?` vs `reverted_card_payment`).\n",
    "  - **Clarified Reasoning**: Encourages more explicit reasoning in outputs (though demos still lack this).\n",
    "- **Examples**:\n",
    "  - Same 5 examples as the initial program (no new training data added).\n",
    "- **Demos**:\n",
    "  - ✅ Retains **5 demos** but with potential for improved label accuracy.\n",
    "  - ❌ Still lacks detailed reasoning in examples.\n",
    "\n",
    "---\n",
    "\n",
    "## Key Differences\n",
    "\n",
    "| Feature                | Initial Program                          | Optimized Program (MIPRO v2)             |\n",
    "|------------------------|------------------------------------------|------------------------------------------|\n",
    "| **Instruction Clarity**| Verbose, repetitive label definitions    | Streamlined, less redundant instructions |\n",
    "| **Label Consistency**  | Potential typos (e.g., `reverted_card_payment?`) | Fixed label naming conventions           |\n",
    "| **Reasoning Guidance** | Minimal reasoning in examples            | Implicitly encourages clearer reasoning  |\n",
    "| **Demo Quality**       | Basic examples with placeholders         | Same examples, but label accuracy improved via optimizations |\n",
    "| **Structural Changes** | Rigid JSON template                      | No structural changes                    |\n",
    "\n",
    "---\n",
    "\n",
    "## Instructions for Each\n",
    "\n",
    "### Initial Program\n",
    "- **Goal**: Map `text` to a predefined `label` using strict JSON formatting.\n",
    "- **Steps**:\n",
    "  1. Parse `text` input.\n",
    "  2. Select the most relevant `label` from the `Literal` list.\n",
    "  3. Output `reasoning` (optional) and `label` in JSON blocks.\n",
    "\n",
    "### Optimized Program\n",
    "- **Goal**: Same as initial program, but with refined label selection and reasoning.\n",
    "- **Steps**:\n",
    "  1. Parse `text` input.\n",
    "  2. Use MIPRO v2 optimizations to resolve ambiguous labels (e.g., `exchange_rate` vs `card_payment_wrong_exchange_rate`).\n",
    "  3. Output clearer `reasoning` (if applicable) and `label`.\n",
    "\n",
    "---\n",
    "\n",
    "## Demo Availability\n",
    "- **Initial Program**: Includes 5 demos but lacks reasoning details.\n",
    "- **Optimized Program**: Same demos but leverages MIPRO v2 for better label mapping.  \n",
    "**Note**: Neither version provides full end-to-end code demos; both focus on prompt-based examples.\n",
    "\n",
    "---\n",
    "\n",
    "## Summary\n",
    "- **Initial Program**: Baseline template with rigid formatting and basic examples.\n",
    "- **Optimized Program**: Retains structure but improves label consistency and reasoning quality via MIPRO v2."
   ]
  },
  {
   "cell_type": "code",
   "execution_count": null,
   "metadata": {},
   "outputs": [],
   "source": []
  }
 ],
 "metadata": {
  "kernelspec": {
   "display_name": "dspy_env",
   "language": "python",
   "name": "python3"
  },
  "language_info": {
   "codemirror_mode": {
    "name": "ipython",
    "version": 3
   },
   "file_extension": ".py",
   "mimetype": "text/x-python",
   "name": "python",
   "nbconvert_exporter": "python",
   "pygments_lexer": "ipython3",
   "version": "3.12.3"
  }
 },
 "nbformat": 4,
 "nbformat_minor": 2
}
